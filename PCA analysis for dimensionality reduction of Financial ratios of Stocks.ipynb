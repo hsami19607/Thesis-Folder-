{
 "cells": [
  {
   "cell_type": "code",
   "execution_count": 25,
   "metadata": {},
   "outputs": [],
   "source": [
    "import numpy as np \n",
    "import pandas as pd\n",
    "import matplotlib as mpl \n",
    "import matplotlib.pyplot as plt \n",
    "import seaborn as sns\n",
    "%matplotlib inline"
   ]
  },
  {
   "cell_type": "code",
   "execution_count": 26,
   "metadata": {},
   "outputs": [
    {
     "data": {
      "text/plain": [
       "'C:\\\\Users\\\\Owner'"
      ]
     },
     "execution_count": 26,
     "metadata": {},
     "output_type": "execute_result"
    }
   ],
   "source": [
    "pwd"
   ]
  },
  {
   "cell_type": "code",
   "execution_count": 27,
   "metadata": {},
   "outputs": [
    {
     "data": {
      "text/html": [
       "<div>\n",
       "<style scoped>\n",
       "    .dataframe tbody tr th:only-of-type {\n",
       "        vertical-align: middle;\n",
       "    }\n",
       "\n",
       "    .dataframe tbody tr th {\n",
       "        vertical-align: top;\n",
       "    }\n",
       "\n",
       "    .dataframe thead th {\n",
       "        text-align: right;\n",
       "    }\n",
       "</style>\n",
       "<table border=\"1\" class=\"dataframe\">\n",
       "  <thead>\n",
       "    <tr style=\"text-align: right;\">\n",
       "      <th></th>\n",
       "      <th>Price -to-book</th>\n",
       "      <th>P/E Ratio</th>\n",
       "      <th>Asset Turn</th>\n",
       "      <th>Operating Margin</th>\n",
       "      <th>EPS</th>\n",
       "      <th>Current ratio</th>\n",
       "    </tr>\n",
       "  </thead>\n",
       "  <tbody>\n",
       "    <tr>\n",
       "      <th>0</th>\n",
       "      <td>27.52</td>\n",
       "      <td>90.89</td>\n",
       "      <td>0.74</td>\n",
       "      <td>0.0764</td>\n",
       "      <td>1.86</td>\n",
       "      <td>4.98</td>\n",
       "    </tr>\n",
       "    <tr>\n",
       "      <th>1</th>\n",
       "      <td>5.85</td>\n",
       "      <td>25.61</td>\n",
       "      <td>1.52</td>\n",
       "      <td>0.0210</td>\n",
       "      <td>2.44</td>\n",
       "      <td>1.80</td>\n",
       "    </tr>\n",
       "    <tr>\n",
       "      <th>2</th>\n",
       "      <td>21.89</td>\n",
       "      <td>88.62</td>\n",
       "      <td>0.69</td>\n",
       "      <td>0.2717</td>\n",
       "      <td>6.12</td>\n",
       "      <td>3.92</td>\n",
       "    </tr>\n",
       "    <tr>\n",
       "      <th>3</th>\n",
       "      <td>13.44</td>\n",
       "      <td>79.61</td>\n",
       "      <td>0.35</td>\n",
       "      <td>0.1539</td>\n",
       "      <td>2.65</td>\n",
       "      <td>1.38</td>\n",
       "    </tr>\n",
       "    <tr>\n",
       "      <th>4</th>\n",
       "      <td>3.94</td>\n",
       "      <td>43.48</td>\n",
       "      <td>0.98</td>\n",
       "      <td>0.0597</td>\n",
       "      <td>9.26</td>\n",
       "      <td>1.69</td>\n",
       "    </tr>\n",
       "    <tr>\n",
       "      <th>...</th>\n",
       "      <td>...</td>\n",
       "      <td>...</td>\n",
       "      <td>...</td>\n",
       "      <td>...</td>\n",
       "      <td>...</td>\n",
       "      <td>...</td>\n",
       "    </tr>\n",
       "    <tr>\n",
       "      <th>61</th>\n",
       "      <td>8.07</td>\n",
       "      <td>53.43</td>\n",
       "      <td>0.70</td>\n",
       "      <td>-2.7626</td>\n",
       "      <td>-0.83</td>\n",
       "      <td>32.21</td>\n",
       "    </tr>\n",
       "    <tr>\n",
       "      <th>62</th>\n",
       "      <td>11.96</td>\n",
       "      <td>36.17</td>\n",
       "      <td>1.03</td>\n",
       "      <td>0.1371</td>\n",
       "      <td>4.03</td>\n",
       "      <td>1.51</td>\n",
       "    </tr>\n",
       "    <tr>\n",
       "      <th>63</th>\n",
       "      <td>5.92</td>\n",
       "      <td>53.43</td>\n",
       "      <td>0.09</td>\n",
       "      <td>-3.3984</td>\n",
       "      <td>-0.53</td>\n",
       "      <td>17.00</td>\n",
       "    </tr>\n",
       "    <tr>\n",
       "      <th>64</th>\n",
       "      <td>9.31</td>\n",
       "      <td>31.44</td>\n",
       "      <td>1.33</td>\n",
       "      <td>0.1469</td>\n",
       "      <td>8.03</td>\n",
       "      <td>1.40</td>\n",
       "    </tr>\n",
       "    <tr>\n",
       "      <th>65</th>\n",
       "      <td>5.24</td>\n",
       "      <td>13.91</td>\n",
       "      <td>0.49</td>\n",
       "      <td>0.0978</td>\n",
       "      <td>6.64</td>\n",
       "      <td>1.05</td>\n",
       "    </tr>\n",
       "  </tbody>\n",
       "</table>\n",
       "<p>66 rows × 6 columns</p>\n",
       "</div>"
      ],
      "text/plain": [
       "    Price -to-book  P/E Ratio   Asset Turn   Operating Margin   EPS   \\\n",
       "0            27.52       90.89         0.74             0.0764  1.86   \n",
       "1             5.85       25.61         1.52             0.0210  2.44   \n",
       "2            21.89       88.62         0.69             0.2717  6.12   \n",
       "3            13.44       79.61         0.35             0.1539  2.65   \n",
       "4             3.94       43.48         0.98             0.0597  9.26   \n",
       "..             ...         ...          ...                ...   ...   \n",
       "61            8.07       53.43         0.70            -2.7626 -0.83   \n",
       "62           11.96       36.17         1.03             0.1371  4.03   \n",
       "63            5.92       53.43         0.09            -3.3984 -0.53   \n",
       "64            9.31       31.44         1.33             0.1469  8.03   \n",
       "65            5.24       13.91         0.49             0.0978  6.64   \n",
       "\n",
       "    Current ratio   \n",
       "0             4.98  \n",
       "1             1.80  \n",
       "2             3.92  \n",
       "3             1.38  \n",
       "4             1.69  \n",
       "..             ...  \n",
       "61           32.21  \n",
       "62            1.51  \n",
       "63           17.00  \n",
       "64            1.40  \n",
       "65            1.05  \n",
       "\n",
       "[66 rows x 6 columns]"
      ]
     },
     "execution_count": 27,
     "metadata": {},
     "output_type": "execute_result"
    }
   ],
   "source": [
    "df = pd.read_csv('C:\\\\Users\\\\Owner\\Desktop\\Stockratios2020.csv')\n",
    "df"
   ]
  },
  {
   "cell_type": "code",
   "execution_count": 28,
   "metadata": {},
   "outputs": [
    {
     "name": "stdout",
     "output_type": "stream",
     "text": [
      "Column Names:\n",
      "['Price -to-book', 'P/E Ratio ', 'Asset Turn ', 'Operating Margin ', 'EPS ', 'Current ratio ']\n"
     ]
    }
   ],
   "source": [
    "column_names = df.columns.tolist()\n",
    "print(\"Column Names:\")\n",
    "print(column_names)"
   ]
  },
  {
   "cell_type": "code",
   "execution_count": 29,
   "metadata": {},
   "outputs": [
    {
     "data": {
      "text/plain": [
       "(66, 6)"
      ]
     },
     "execution_count": 29,
     "metadata": {},
     "output_type": "execute_result"
    }
   ],
   "source": [
    "df.shape"
   ]
  },
  {
   "cell_type": "code",
   "execution_count": 30,
   "metadata": {},
   "outputs": [
    {
     "data": {
      "text/html": [
       "<div>\n",
       "<style scoped>\n",
       "    .dataframe tbody tr th:only-of-type {\n",
       "        vertical-align: middle;\n",
       "    }\n",
       "\n",
       "    .dataframe tbody tr th {\n",
       "        vertical-align: top;\n",
       "    }\n",
       "\n",
       "    .dataframe thead th {\n",
       "        text-align: right;\n",
       "    }\n",
       "</style>\n",
       "<table border=\"1\" class=\"dataframe\">\n",
       "  <thead>\n",
       "    <tr style=\"text-align: right;\">\n",
       "      <th></th>\n",
       "      <th>Price -to-book</th>\n",
       "      <th>P/E Ratio</th>\n",
       "      <th>Asset Turn</th>\n",
       "      <th>Operating Margin</th>\n",
       "      <th>EPS</th>\n",
       "      <th>Current ratio</th>\n",
       "    </tr>\n",
       "  </thead>\n",
       "  <tbody>\n",
       "    <tr>\n",
       "      <th>Price -to-book</th>\n",
       "      <td>1.000000</td>\n",
       "      <td>0.221337</td>\n",
       "      <td>0.012251</td>\n",
       "      <td>0.117023</td>\n",
       "      <td>0.049758</td>\n",
       "      <td>-0.113641</td>\n",
       "    </tr>\n",
       "    <tr>\n",
       "      <th>P/E Ratio</th>\n",
       "      <td>0.221337</td>\n",
       "      <td>1.000000</td>\n",
       "      <td>0.063526</td>\n",
       "      <td>0.158453</td>\n",
       "      <td>0.006553</td>\n",
       "      <td>-0.083471</td>\n",
       "    </tr>\n",
       "    <tr>\n",
       "      <th>Asset Turn</th>\n",
       "      <td>0.012251</td>\n",
       "      <td>0.063526</td>\n",
       "      <td>1.000000</td>\n",
       "      <td>0.314437</td>\n",
       "      <td>0.142483</td>\n",
       "      <td>-0.210341</td>\n",
       "    </tr>\n",
       "    <tr>\n",
       "      <th>Operating Margin</th>\n",
       "      <td>0.117023</td>\n",
       "      <td>0.158453</td>\n",
       "      <td>0.314437</td>\n",
       "      <td>1.000000</td>\n",
       "      <td>0.335700</td>\n",
       "      <td>-0.194314</td>\n",
       "    </tr>\n",
       "    <tr>\n",
       "      <th>EPS</th>\n",
       "      <td>0.049758</td>\n",
       "      <td>0.006553</td>\n",
       "      <td>0.142483</td>\n",
       "      <td>0.335700</td>\n",
       "      <td>1.000000</td>\n",
       "      <td>-0.090859</td>\n",
       "    </tr>\n",
       "    <tr>\n",
       "      <th>Current ratio</th>\n",
       "      <td>-0.113641</td>\n",
       "      <td>-0.083471</td>\n",
       "      <td>-0.210341</td>\n",
       "      <td>-0.194314</td>\n",
       "      <td>-0.090859</td>\n",
       "      <td>1.000000</td>\n",
       "    </tr>\n",
       "  </tbody>\n",
       "</table>\n",
       "</div>"
      ],
      "text/plain": [
       "                   Price -to-book  P/E Ratio   Asset Turn   Operating Margin   \\\n",
       "Price -to-book           1.000000    0.221337     0.012251           0.117023   \n",
       "P/E Ratio                0.221337    1.000000     0.063526           0.158453   \n",
       "Asset Turn               0.012251    0.063526     1.000000           0.314437   \n",
       "Operating Margin         0.117023    0.158453     0.314437           1.000000   \n",
       "EPS                      0.049758    0.006553     0.142483           0.335700   \n",
       "Current ratio           -0.113641   -0.083471    -0.210341          -0.194314   \n",
       "\n",
       "                       EPS   Current ratio   \n",
       "Price -to-book     0.049758       -0.113641  \n",
       "P/E Ratio          0.006553       -0.083471  \n",
       "Asset Turn         0.142483       -0.210341  \n",
       "Operating Margin   0.335700       -0.194314  \n",
       "EPS                1.000000       -0.090859  \n",
       "Current ratio     -0.090859        1.000000  "
      ]
     },
     "execution_count": 30,
     "metadata": {},
     "output_type": "execute_result"
    }
   ],
   "source": [
    "df.corr()"
   ]
  },
  {
   "cell_type": "code",
   "execution_count": 31,
   "metadata": {},
   "outputs": [
    {
     "data": {
      "text/plain": [
       "Text(0.5, 1, 'Correlation Between Different Features')"
      ]
     },
     "execution_count": 31,
     "metadata": {},
     "output_type": "execute_result"
    },
    {
     "data": {
      "image/png": "[encoded data removed]",
      "text/plain": [
       "<Figure size 864x864 with 2 Axes>"
      ]
     },
     "metadata": {
      "needs_background": "light"
     },
     "output_type": "display_data"
    }
   ],
   "source": [
    "correlation = df.corr()\n",
    "plt.figure(figsize = (12,12))\n",
    "sns.heatmap(correlation, vmax = 1, square=True, annot=True, cmap='cubehelix')\n",
    "plt.title('Correlation Between Different Features')"
   ]
  },
  {
   "cell_type": "code",
   "execution_count": 32,
   "metadata": {},
   "outputs": [
    {
     "data": {
      "text/html": [
       "<div>\n",
       "<style scoped>\n",
       "    .dataframe tbody tr th:only-of-type {\n",
       "        vertical-align: middle;\n",
       "    }\n",
       "\n",
       "    .dataframe tbody tr th {\n",
       "        vertical-align: top;\n",
       "    }\n",
       "\n",
       "    .dataframe thead th {\n",
       "        text-align: right;\n",
       "    }\n",
       "</style>\n",
       "<table border=\"1\" class=\"dataframe\">\n",
       "  <thead>\n",
       "    <tr style=\"text-align: right;\">\n",
       "      <th></th>\n",
       "      <th>Price -to-book</th>\n",
       "      <th>P/E Ratio</th>\n",
       "      <th>Asset Turn</th>\n",
       "      <th>Operating Margin</th>\n",
       "      <th>EPS</th>\n",
       "      <th>Current ratio</th>\n",
       "    </tr>\n",
       "  </thead>\n",
       "  <tbody>\n",
       "    <tr>\n",
       "      <th>0</th>\n",
       "      <td>27.52</td>\n",
       "      <td>90.89</td>\n",
       "      <td>0.74</td>\n",
       "      <td>0.0764</td>\n",
       "      <td>1.86</td>\n",
       "      <td>4.98</td>\n",
       "    </tr>\n",
       "    <tr>\n",
       "      <th>1</th>\n",
       "      <td>5.85</td>\n",
       "      <td>25.61</td>\n",
       "      <td>1.52</td>\n",
       "      <td>0.0210</td>\n",
       "      <td>2.44</td>\n",
       "      <td>1.80</td>\n",
       "    </tr>\n",
       "    <tr>\n",
       "      <th>2</th>\n",
       "      <td>21.89</td>\n",
       "      <td>88.62</td>\n",
       "      <td>0.69</td>\n",
       "      <td>0.2717</td>\n",
       "      <td>6.12</td>\n",
       "      <td>3.92</td>\n",
       "    </tr>\n",
       "    <tr>\n",
       "      <th>3</th>\n",
       "      <td>13.44</td>\n",
       "      <td>79.61</td>\n",
       "      <td>0.35</td>\n",
       "      <td>0.1539</td>\n",
       "      <td>2.65</td>\n",
       "      <td>1.38</td>\n",
       "    </tr>\n",
       "    <tr>\n",
       "      <th>4</th>\n",
       "      <td>3.94</td>\n",
       "      <td>43.48</td>\n",
       "      <td>0.98</td>\n",
       "      <td>0.0597</td>\n",
       "      <td>9.26</td>\n",
       "      <td>1.69</td>\n",
       "    </tr>\n",
       "  </tbody>\n",
       "</table>\n",
       "</div>"
      ],
      "text/plain": [
       "   Price -to-book  P/E Ratio   Asset Turn   Operating Margin   EPS   \\\n",
       "0           27.52       90.89         0.74             0.0764  1.86   \n",
       "1            5.85       25.61         1.52             0.0210  2.44   \n",
       "2           21.89       88.62         0.69             0.2717  6.12   \n",
       "3           13.44       79.61         0.35             0.1539  2.65   \n",
       "4            3.94       43.48         0.98             0.0597  9.26   \n",
       "\n",
       "   Current ratio   \n",
       "0            4.98  \n",
       "1            1.80  \n",
       "2            3.92  \n",
       "3            1.38  \n",
       "4            1.69  "
      ]
     },
     "execution_count": 32,
     "metadata": {},
     "output_type": "execute_result"
    }
   ],
   "source": [
    "df.head()"
   ]
  },
  {
   "cell_type": "code",
   "execution_count": 33,
   "metadata": {},
   "outputs": [
    {
     "data": {
      "text/plain": [
       "['Price -to-book',\n",
       " 'P/E Ratio ',\n",
       " 'Asset Turn ',\n",
       " 'Operating Margin ',\n",
       " 'EPS ',\n",
       " 'Current ratio ']"
      ]
     },
     "execution_count": 33,
     "metadata": {},
     "output_type": "execute_result"
    }
   ],
   "source": [
    "cols = df.columns.tolist()\n",
    "cols"
   ]
  },
  {
   "cell_type": "code",
   "execution_count": 35,
   "metadata": {},
   "outputs": [
    {
     "data": {
      "text/plain": [
       "array([[ 9.08900e+01,  7.40000e-01,  7.64000e-02,  1.86000e+00,\n",
       "         4.98000e+00],\n",
       "       [ 2.56100e+01,  1.52000e+00,  2.10000e-02,  2.44000e+00,\n",
       "         1.80000e+00],\n",
       "       [ 8.86200e+01,  6.90000e-01,  2.71700e-01,  6.12000e+00,\n",
       "         3.92000e+00],\n",
       "       [ 7.96100e+01,  3.50000e-01,  1.53900e-01,  2.65000e+00,\n",
       "         1.38000e+00],\n",
       "       [ 4.34800e+01,  9.80000e-01,  5.97000e-02,  9.26000e+00,\n",
       "         1.69000e+00],\n",
       "       [ 1.49310e+02,  6.80000e-01,  4.00000e-02,  3.47000e+00,\n",
       "         1.40000e+00],\n",
       "       [ 1.31200e+02,  1.41000e+00,  1.13500e-01,  7.40000e-01,\n",
       "         2.28000e+00],\n",
       "       [ 3.74200e+01,  3.70000e-01,  1.11000e-02,  3.31000e+00,\n",
       "         1.36000e+00],\n",
       "       [ 2.28200e+01,  2.11000e+00,  1.40100e-01,  1.15600e+01,\n",
       "         1.36000e+00],\n",
       "       [ 1.35630e+02,  3.70000e-01,  1.11000e-02,  3.86000e+00,\n",
       "         1.22000e+00],\n",
       "       [ 1.99800e+01,  1.39000e+00,  9.50000e-02,  1.74100e+01,\n",
       "         1.50000e-01],\n",
       "       [ 3.45800e+01,  5.10000e-01,  3.80900e-01, -3.30000e-01,\n",
       "         2.53000e+00],\n",
       "       [ 2.96300e+01,  5.60000e-01,  1.15100e-01,  1.05300e+01,\n",
       "         1.54000e+00],\n",
       "       [ 8.21500e+01,  1.25000e+00,  7.86000e-02,  1.69000e+00,\n",
       "         2.55000e+00],\n",
       "       [ 3.02600e+01,  5.40000e-01,  1.82600e-01,  6.98000e+00,\n",
       "         1.64000e+00],\n",
       "       [ 2.13700e+01,  2.24000e+00,  4.08000e-02,  6.93000e+00,\n",
       "         8.40000e-01],\n",
       "       [ 4.35000e+01,  2.80000e-01,  6.44600e-01,  4.89000e+00,\n",
       "         1.91000e+00],\n",
       "       [ 4.17100e+01,  4.00000e-02, -4.84630e+00, -1.63000e+00,\n",
       "         1.73000e+01],\n",
       "       [ 2.01010e+02,  6.50000e-01,  2.53000e-02, -1.70000e-01,\n",
       "         1.64000e+00],\n",
       "       [ 1.27152e+03,  7.20000e-01,  6.31000e-02,  6.10000e-01,\n",
       "         1.63000e+00],\n",
       "       [ 2.97000e+01,  2.23000e+00,  1.77000e-02,  1.50000e-01,\n",
       "         1.20000e+00],\n",
       "       [ 6.02130e+02,  7.30000e-01,  1.63700e-01,  1.44000e+00,\n",
       "         1.73000e+00],\n",
       "       [ 2.01010e+02,  5.10000e-01, -2.96000e-01, -2.09000e+00,\n",
       "         1.55000e+00],\n",
       "       [ 5.34300e+01,  5.80000e-01, -1.82500e-01, -1.19000e+00,\n",
       "         1.43000e+00],\n",
       "       [ 1.00000e-01,  3.70000e-01, -1.28240e+00, -5.66000e+00,\n",
       "         2.81000e+00],\n",
       "       [ 1.00000e-01,  6.20000e-01, -1.11750e+00, -9.40000e-02,\n",
       "         1.77000e+00],\n",
       "       [ 1.00000e-01,  8.00000e-02, -2.96280e+00, -3.40000e-01,\n",
       "         1.31600e+01],\n",
       "       [ 1.00000e-01,  1.00000e-01,  0.00000e+00, -5.07100e-01,\n",
       "         1.00750e+02],\n",
       "       [ 1.00000e-01,  4.70000e-01, -1.09460e+00, -1.91000e+00,\n",
       "         1.26000e+00],\n",
       "       [ 8.98100e+01,  1.23000e+00,  3.10200e-01,  9.00000e-01,\n",
       "         1.15700e+01],\n",
       "       [ 1.00000e-01,  5.00000e-02, -4.99160e+00, -3.23000e+00,\n",
       "         1.12100e+01],\n",
       "       [ 1.57100e+01,  2.00000e+00,  8.48000e-02,  1.14000e+00,\n",
       "         1.86000e+00],\n",
       "       [ 2.49040e+02,  3.60000e+00,  4.40000e-03,  2.40000e-01,\n",
       "         1.68000e+00],\n",
       "       [ 4.17100e+01,  6.20000e-01, -4.33500e+00, -2.25100e+01,\n",
       "         1.87800e+01],\n",
       "       [ 4.17100e+01,  7.50000e-01, -3.41700e+00, -7.07700e+00,\n",
       "         1.13000e+00],\n",
       "       [ 4.17100e+01,  4.50000e-01, -2.15080e+00, -2.37100e+00,\n",
       "         2.83000e+00],\n",
       "       [ 2.41600e+01,  1.34000e+00, -4.50000e-02, -6.70000e-01,\n",
       "         1.08000e+00],\n",
       "       [ 2.01160e+02,  3.44000e+00, -3.50000e-01,  2.40000e-01,\n",
       "         1.37000e+00],\n",
       "       [ 2.30100e+01,  2.60000e-01, -3.64600e+00, -1.43200e+01,\n",
       "         5.90000e-01],\n",
       "       [ 8.43500e+01,  6.80000e-01,  1.77100e-01,  6.19000e+00,\n",
       "         6.80000e-01],\n",
       "       [ 6.11900e+01,  5.90000e-01,  3.21000e-01,  1.08300e+01,\n",
       "         1.44000e+00],\n",
       "       [ 9.26200e+01,  1.45000e+00,  5.72000e-02,  3.42000e+01,\n",
       "         1.11000e+00],\n",
       "       [ 3.31700e+01,  5.80000e-01,  3.64100e-01,  8.78000e+00,\n",
       "         5.51000e+00],\n",
       "       [ 3.52400e+01,  6.10000e-01,  2.02900e-01,  5.17500e+01,\n",
       "         3.41000e+00],\n",
       "       [ 3.11200e+01,  5.40000e-01,  4.12300e-01,  2.23000e+00,\n",
       "         1.75000e+00],\n",
       "       [ 8.96000e+00,  4.70000e-01,  4.37000e-02, -4.41000e+01,\n",
       "         1.16000e+00],\n",
       "       [ 3.55700e+01,  4.80000e-01,  1.25500e-01, -8.41000e+00,\n",
       "         4.90000e+00],\n",
       "       [ 1.01360e+02,  8.90000e-01,  2.10900e-01,  1.28000e+00,\n",
       "         3.31000e+00],\n",
       "       [ 2.97500e+01,  1.10000e-01, -1.43120e+00, -1.79000e+00,\n",
       "         5.37000e+00],\n",
       "       [ 2.41500e+01,  4.20000e-01, -1.40600e-01, -3.70000e-01,\n",
       "         1.56000e+00],\n",
       "       [ 5.34300e+01,  5.60000e-01, -3.54500e-01, -2.37000e+00,\n",
       "         1.76000e+00],\n",
       "       [ 2.01010e+02,  6.40000e-01, -3.40500e-01, -3.39000e+00,\n",
       "         2.16000e+00],\n",
       "       [ 4.21600e+01,  4.20000e-01, -3.77800e-01, -4.80000e-01,\n",
       "         9.38000e+00],\n",
       "       [ 1.60000e+01,  1.93000e+00,  8.48000e-02,  1.10000e+00,\n",
       "         1.88600e+00],\n",
       "       [ 1.00000e-01,  1.00000e-01,  1.00000e-01, -6.59000e-01,\n",
       "         2.07000e+00],\n",
       "       [-1.24000e+00,  1.00000e-01, -1.11750e+00, -1.70000e-01,\n",
       "         1.00000e-01],\n",
       "       [-6.00000e+01,  1.60000e-01, -2.85810e+00, -4.50000e-01,\n",
       "         3.10000e+00],\n",
       "       [-1.40000e+01,  4.40000e-01, -1.06210e+00, -1.91000e+00,\n",
       "         1.26000e+00],\n",
       "       [ 8.98000e+01,  1.60000e-01,  3.14200e-01,  9.00000e-01,\n",
       "         1.15700e+01],\n",
       "       [ 0.00000e+00,  3.70000e+00, -4.31000e-02, -8.20000e-01,\n",
       "         8.70000e-01],\n",
       "       [ 2.13800e+01,  2.24000e+00,  4.08000e-02,  6.83000e+00,\n",
       "         8.40000e-01],\n",
       "       [ 5.34300e+01,  7.00000e-01, -2.76260e+00, -8.30000e-01,\n",
       "         3.22100e+01],\n",
       "       [ 3.61700e+01,  1.03000e+00,  1.37100e-01,  4.03000e+00,\n",
       "         1.51000e+00],\n",
       "       [ 5.34300e+01,  9.00000e-02, -3.39840e+00, -5.30000e-01,\n",
       "         1.70000e+01],\n",
       "       [ 3.14400e+01,  1.33000e+00,  1.46900e-01,  8.03000e+00,\n",
       "         1.40000e+00],\n",
       "       [ 1.39100e+01,  4.90000e-01,  9.78000e-02,  6.64000e+00,\n",
       "         1.05000e+00]])"
      ]
     },
     "execution_count": 35,
     "metadata": {},
     "output_type": "execute_result"
    }
   ],
   "source": [
    "x = df.iloc[:,1:6].values\n",
    "y = df.iloc[:,0].values\n",
    "x"
   ]
  },
  {
   "cell_type": "code",
   "execution_count": 36,
   "metadata": {},
   "outputs": [
    {
     "data": {
      "text/plain": [
       "array([ 27.52 ,   5.85 ,  21.89 ,  13.44 ,   3.94 ,  38.33 ,  29.23 ,\n",
       "        31.76 , 185.05 ,   5.12 ,   5.09 ,  13.14 ,   6.62 ,  23.28 ,\n",
       "         8.26 ,   5.18 ,  13.48 ,   8.77 ,  44.92 ,  37.95 ,   0.8  ,\n",
       "       111.86 ,  30.01 ,  93.04 ,  72.79 ,   4.81 ,   6.4  ,   6.76 ,\n",
       "         6.8  ,  13.67 ,  11.57 ,   4.4  ,   7.13 ,   1.26 ,   7.88 ,\n",
       "         3.04 ,   3.53 ,  16.63 ,   1.73 ,  21.3  ,  19.92 ,  19.18 ,\n",
       "         6.77 ,   5.81 ,   8.55 ,   5.09 ,   4.34 ,  39.23 ,  14.07 ,\n",
       "        24.57 ,  97.29 ,  19.78 ,  20.51 ,   4.73 ,   1.093,   5.324,\n",
       "        57.14 ,  25.24 ,   5.81 ,   1.85 ,   5.15 ,   8.07 ,  11.96 ,\n",
       "         5.92 ,   9.31 ,   5.24 ])"
      ]
     },
     "execution_count": 36,
     "metadata": {},
     "output_type": "execute_result"
    }
   ],
   "source": [
    "y "
   ]
  },
  {
   "cell_type": "code",
   "execution_count": 37,
   "metadata": {},
   "outputs": [
    {
     "data": {
      "text/plain": [
       "(66, 5)"
      ]
     },
     "execution_count": 37,
     "metadata": {},
     "output_type": "execute_result"
    }
   ],
   "source": [
    "np.shape(x)"
   ]
  },
  {
   "cell_type": "code",
   "execution_count": 38,
   "metadata": {},
   "outputs": [
    {
     "data": {
      "text/plain": [
       "(66,)"
      ]
     },
     "execution_count": 38,
     "metadata": {},
     "output_type": "execute_result"
    }
   ],
   "source": [
    "np.shape(y)"
   ]
  },
  {
   "cell_type": "code",
   "execution_count": 52,
   "metadata": {},
   "outputs": [],
   "source": [
    "from sklearn.preprocessing import StandardScaler\n",
    "x_std = StandardScaler().fit_transform(x)"
   ]
  },
  {
   "cell_type": "code",
   "execution_count": 54,
   "metadata": {},
   "outputs": [
    {
     "name": "stdout",
     "output_type": "stream",
     "text": [
      "Covariance Matrix \n",
      "[[ -70.51918251   -3.59939524  -20.46399924   -0.43983906    5.38048829]\n",
      " [  -4.47979009  -56.66033549  -40.60902731   -9.56293458   13.55840176]\n",
      " [ -11.17399476  -17.81609057 -129.1484853   -22.53092404   12.52530581]\n",
      " [  -0.4621398    -8.07314276  -43.35514335  -67.11625165    5.8566998 ]\n",
      " [   5.88633273   11.91800294   25.0953642     6.09812757  -64.45908735]]\n"
     ]
    }
   ],
   "source": [
    "mean_vec = np.mean(x_std, axis = 0)\n",
    "cov_mat = (x_std - mean_vec).T.dot((x_std - mean_vec)) / (x_std[0] - 1)\n",
    "print('Covariance Matrix \\n%s' %cov_mat)"
   ]
  },
  {
   "cell_type": "code",
   "execution_count": 55,
   "metadata": {},
   "outputs": [
    {
     "name": "stdout",
     "output_type": "stream",
     "text": [
      "Numpy Coraiance Matrix: \n",
      "[[ 1.01538462  0.06450316  0.16089101  0.00665421 -0.08475554]\n",
      " [ 0.06450316  1.01538462  0.31927422  0.14467519 -0.21357722]\n",
      " [ 0.16089101  0.31927422  1.01538462  0.34086459 -0.19730349]\n",
      " [ 0.00665421  0.14467519  0.34086459  1.01538462 -0.09225701]\n",
      " [-0.08475554 -0.21357722 -0.19730349 -0.09225701  1.01538462]]\n"
     ]
    }
   ],
   "source": [
    "print('Numpy Coraiance Matrix: \\n%s' %np.cov(x_std.T))"
   ]
  },
  {
   "cell_type": "code",
   "execution_count": 56,
   "metadata": {},
   "outputs": [
    {
     "data": {
      "text/plain": [
       "Text(0.5, 1, 'Correlation between different Features')"
      ]
     },
     "execution_count": 56,
     "metadata": {},
     "output_type": "execute_result"
    },
    {
     "data": {
      "image/png": "[encoded data removed]",
      "text/plain": [
       "<Figure size 720x720 with 2 Axes>"
      ]
     },
     "metadata": {
      "needs_background": "light"
     },
     "output_type": "display_data"
    }
   ],
   "source": [
    "plt.figure(figsize = (10,10))\n",
    "sns.heatmap(cov_mat, vmax = 1, square = True, annot = True, cmap = 'cubehelix')\n",
    "plt.title('Correlation between different Features')"
   ]
  },
  {
   "cell_type": "code",
   "execution_count": 58,
   "metadata": {},
   "outputs": [
    {
     "name": "stdout",
     "output_type": "stream",
     "text": [
      "Eigenvectors \n",
      "[[ 0.20923918  0.88664092 -0.0904563   0.28160446  0.28896256]\n",
      " [ 0.38396274  0.02431939 -0.89694496 -0.18937222 -0.38997026]\n",
      " [ 0.74795811 -0.07211055  0.17460339 -0.2878077   0.16798076]\n",
      " [ 0.40812667 -0.39596462 -0.11184063  0.87007206  0.13535079]\n",
      " [-0.28772011 -0.22646971 -0.37988516 -0.21208116  0.84728181]]\n",
      "\n",
      "Eignevalues \n",
      "[-158.53249152  -70.13145133  -44.65696819  -52.59499839  -61.98743288]\n"
     ]
    }
   ],
   "source": [
    "eig_vals, eig_vecs = np.linalg.eig(cov_mat)\n",
    "print('Eigenvectors \\n%s' %eig_vecs)\n",
    "print('\\nEignevalues \\n%s' %eig_vals)"
   ]
  },
  {
   "cell_type": "code",
   "execution_count": 60,
   "metadata": {},
   "outputs": [
    {
     "name": "stdout",
     "output_type": "stream",
     "text": [
      "Eigenvalues in descending order: \n",
      "158.53249151556446\n",
      "70.13145132784463\n",
      "44.656968194250695\n",
      "52.59499839441732\n",
      "61.98743287804299\n"
     ]
    }
   ],
   "source": [
    "eig_pairs = [(np.abs(eig_vals[i]), eig_vecs[:,i]) for i in range(len(eig_vals))]\n",
    "eig_pairs.sort(key=lambda x: [0], reverse = True)\n",
    "print('Eigenvalues in descending order: ')\n",
    "for i  in eig_pairs:\n",
    "    print(i[0])"
   ]
  },
  {
   "cell_type": "code",
   "execution_count": 61,
   "metadata": {},
   "outputs": [],
   "source": [
    "total = sum(eig_vals)\n",
    "var_exp = [(i/ total) * 100 for i in sorted(eig_vals, reverse = True)]"
   ]
  },
  {
   "cell_type": "code",
   "execution_count": 64,
   "metadata": {},
   "outputs": [
    {
     "data": {
      "image/png": "[encoded data removed]",
      "text/plain": [
       "<Figure size 432x288 with 1 Axes>"
      ]
     },
     "metadata": {},
     "output_type": "display_data"
    }
   ],
   "source": [
    "with plt.style.context('dark_background'):\n",
    "    plt.figure(figsize = (6,4))\n",
    "    \n",
    "    plt.bar(range(5), var_exp, alpha = 0.5, align = 'center', label = 'indidvidual explained variance')\n",
    "    plt.ylabel('Explained Variance Ratio')\n",
    "    plt.xlabel('Principal Components')\n",
    "    plt.legend(loc = 'best')\n",
    "    plt.tight_layout()"
   ]
  },
  {
   "cell_type": "code",
   "execution_count": 67,
   "metadata": {},
   "outputs": [
    {
     "name": "stdout",
     "output_type": "stream",
     "text": [
      "Matrix Weights: \n",
      " [[ 0.20923918  0.88664092]\n",
      " [ 0.38396274  0.02431939]\n",
      " [ 0.74795811 -0.07211055]\n",
      " [ 0.40812667 -0.39596462]\n",
      " [-0.28772011 -0.22646971]]\n"
     ]
    }
   ],
   "source": [
    "matrix_w = np.hstack((eig_pairs[0][1].reshape(5,1), eig_pairs[1][1].reshape(5,1)))\n",
    "print('Matrix Weights: \\n', matrix_w)"
   ]
  },
  {
   "cell_type": "code",
   "execution_count": 68,
   "metadata": {},
   "outputs": [
    {
     "data": {
      "text/plain": [
       "array([[ 3.29505761e-01,  1.63802689e-02],\n",
       "       [ 6.77732496e-01, -2.59157331e-01],\n",
       "       [ 5.94539060e-01, -1.43994293e-01],\n",
       "       [ 2.84702634e-01, -2.36029575e-02],\n",
       "       [ 7.25923768e-01, -4.31951633e-01],\n",
       "       [ 4.91646552e-01,  3.20569888e-01],\n",
       "       [ 7.30922963e-01,  3.29391268e-01],\n",
       "       [ 1.89238027e-01, -2.56125339e-01],\n",
       "       [ 1.36927951e+00, -5.86987877e-01],\n",
       "       [ 3.32202041e-01,  2.31441707e-01],\n",
       "       [ 1.24941533e+00, -8.12743010e-01],\n",
       "       [ 2.93199699e-01, -1.73952855e-01],\n",
       "       [ 5.93591411e-01, -5.62300263e-01],\n",
       "       [ 6.06731050e-01,  3.48802882e-02],\n",
       "       [ 4.86710675e-01, -4.35628145e-01],\n",
       "       [ 1.21127679e+00, -4.07548661e-01],\n",
       "       [ 5.51454034e-01, -3.28386627e-01],\n",
       "       [-3.18050707e+00, -8.21635365e-02],\n",
       "       [ 3.90197511e-01,  7.14864342e-01],\n",
       "       [ 1.77293446e+00,  6.19321059e+00],\n",
       "       [ 9.41347964e-01, -1.22967699e-01],\n",
       "       [ 1.04958280e+00,  2.71293822e+00],\n",
       "       [ 7.69134489e-02,  7.99336531e-01],\n",
       "       [ 2.97564895e-02,  5.53688824e-03],\n",
       "       [-9.39351527e-01, -7.75559652e-02],\n",
       "       [-4.98938573e-01, -2.63653568e-01],\n",
       "       [-2.03217508e+00, -3.70376443e-01],\n",
       "       [-2.32610103e+00, -2.04323331e+00],\n",
       "       [-6.13641493e-01, -1.94298559e-01],\n",
       "       [ 5.05784968e-01, -6.65705441e-02],\n",
       "       [-3.23224070e+00, -1.24055318e-01],\n",
       "       [ 8.76088374e-01, -2.52881250e-01],\n",
       "       [ 1.83605121e+00,  1.03509691e+00],\n",
       "       [-3.44277768e+00,  6.42981342e-01],\n",
       "       [-1.90554309e+00,  3.42256611e-01],\n",
       "       [-1.20781477e+00,  6.49016339e-02],\n",
       "       [ 4.54125742e-01, -1.42618858e-01],\n",
       "       [ 1.51394528e+00,  8.08310059e-01],\n",
       "       [-2.54481087e+00,  5.17001572e-01],\n",
       "       [ 6.06560713e-01, -1.07477832e-01],\n",
       "       [ 7.73173538e-01, -4.19226629e-01],\n",
       "       [ 1.95428555e+00, -1.06378408e+00],\n",
       "       [ 5.91440020e-01, -5.61961525e-01],\n",
       "       [ 2.17922292e+00, -2.07112650e+00],\n",
       "       [ 4.33787149e-01, -2.72262160e-01],\n",
       "       [-1.55657863e+00,  1.32975396e+00],\n",
       "       [-2.16514683e-01,  9.70956639e-02],\n",
       "       [ 5.01978445e-01,  1.17682679e-01],\n",
       "       [-1.01872778e+00, -1.10342619e-01],\n",
       "       [-2.98131711e-02, -1.84200396e-01],\n",
       "       [-1.26226683e-01,  5.13650038e-02],\n",
       "       [ 5.10620499e-02,  8.42342840e-01],\n",
       "       [-3.15694881e-01, -2.10785823e-01],\n",
       "       [ 8.41509819e-01, -2.52464637e-01],\n",
       "       [-9.84294183e-02, -3.28563359e-01],\n",
       "       [-7.10619021e-01, -2.54220808e-01],\n",
       "       [-1.79183642e+00, -5.03927571e-01],\n",
       "       [-6.26888497e-01, -2.69448954e-01],\n",
       "       [ 5.77942068e-03, -9.86434157e-02],\n",
       "       [ 1.53251065e+00, -1.87723782e-01],\n",
       "       [ 1.20753313e+00, -4.03853347e-01],\n",
       "       [-2.00476466e+00, -4.01402955e-01],\n",
       "       [ 5.90809732e-01, -2.78485973e-01],\n",
       "       [-2.29521737e+00, -1.32356970e-01],\n",
       "       [ 8.83944761e-01, -4.38263733e-01],\n",
       "       [ 3.96815158e-01, -4.94061150e-01]])"
      ]
     },
     "execution_count": 68,
     "metadata": {},
     "output_type": "execute_result"
    }
   ],
   "source": [
    "y = x_std.dot(matrix_w)\n",
    "y"
   ]
  },
  {
   "cell_type": "code",
   "execution_count": 69,
   "metadata": {},
   "outputs": [
    {
     "data": {
      "text/plain": [
       "Text(0, 0.5, 'Cumulative Explained Variance')"
      ]
     },
     "execution_count": 69,
     "metadata": {},
     "output_type": "execute_result"
    },
    {
     "data": {
      "image/png": "[encoded data removed]",
      "text/plain": [
       "<Figure size 432x288 with 1 Axes>"
      ]
     },
     "metadata": {
      "needs_background": "light"
     },
     "output_type": "display_data"
    }
   ],
   "source": [
    "from sklearn.decomposition import PCA\n",
    "pca = PCA().fit(x_std)\n",
    "plt.plot(np.cumsum(pca.explained_variance_ratio_))\n",
    "plt.xlim(0, 5, 1)\n",
    "plt.xlabel('Number of Components')\n",
    "plt.ylabel('Cumulative Explained Variance')"
   ]
  },
  {
   "cell_type": "code",
   "execution_count": 72,
   "metadata": {},
   "outputs": [],
   "source": [
    "from sklearn.decomposition import PCA \n",
    "sk_learn_pca = PCA(n_components = 2)\n",
    "y_sklearn = sklearn_pca.fit_transform(x_std)"
   ]
  },
  {
   "cell_type": "code",
   "execution_count": 73,
   "metadata": {},
   "outputs": [
    {
     "name": "stdout",
     "output_type": "stream",
     "text": [
      "[[-2.40179632e-01  2.50879365e-03  1.90164966e-01 -9.28225570e-02]\n",
      " [-7.20890700e-01 -2.59837467e-01 -4.80857248e-01  4.15963873e-01]\n",
      " [-4.96562249e-01 -2.09104676e-01  3.47034707e-01 -3.09189454e-01]\n",
      " [-1.64609234e-01 -2.42093648e-02  1.94014030e-01 -6.15112258e-01]\n",
      " [-7.13354192e-01 -5.12800761e-01  6.54162914e-02 -2.73220819e-01]\n",
      " [-4.39919522e-01  2.68465362e-01  2.68157677e-01 -3.76113838e-01]\n",
      " [-7.52750336e-01  2.98016153e-01 -1.50473432e-01  3.88204111e-01]\n",
      " [-8.49881910e-02 -2.42349694e-01  6.28184555e-02 -6.23142917e-01]\n",
      " [-1.50751550e+00 -7.16199936e-01 -4.01184245e-01  6.16579276e-01]\n",
      " [-2.42618519e-01  1.90184057e-01  3.64052630e-01 -6.63202388e-01]\n",
      " [-1.32106243e+00 -9.91162865e-01  5.87692630e-02 -2.49953472e-01]\n",
      " [-1.45568516e-01 -1.25641206e-01 -2.73438251e-02 -3.04882504e-01]\n",
      " [-5.20789686e-01 -6.41727865e-01  2.57098236e-01 -6.75985245e-01]\n",
      " [-6.05208194e-01  1.99525284e-02 -1.80967136e-01  2.38280513e-01]\n",
      " [-3.92916478e-01 -4.71876108e-01  1.48793468e-01 -5.69474275e-01]\n",
      " [-1.36984827e+00 -4.78881686e-01 -6.78893115e-01  8.46618845e-01]\n",
      " [-3.63277163e-01 -3.46257123e-01  3.09294424e-01 -6.83305522e-01]\n",
      " [ 2.92263851e+00  3.79556689e-02  1.65955575e-02 -3.31867472e-01]\n",
      " [-3.30292957e-01  6.83054898e-01  3.03559216e-01 -2.82527815e-01]\n",
      " [-1.85094643e+00  5.62051913e+00  3.43871307e+00 -4.17152239e-01]\n",
      " [-1.08043358e+00 -1.14100848e-01 -8.93630394e-01  1.07066424e+00]\n",
      " [-1.03735104e+00  2.45844900e+00  1.52969710e+00 -3.16396032e-01]\n",
      " [-3.00766721e-02  8.00384368e-01  2.34896974e-01 -3.67034152e-01]\n",
      " [ 3.50103764e-02  6.49357728e-02 -1.80272731e-01 -3.10136299e-01]\n",
      " [ 9.37678087e-01  8.33945864e-02 -5.26311529e-01 -3.48189492e-01]\n",
      " [ 4.58013517e-01 -1.78727558e-01 -4.47443390e-01 -3.50481952e-01]\n",
      " [ 1.95037071e+00 -2.66555335e-01  3.13718756e-02 -3.98030837e-01]\n",
      " [ 3.31420025e+00 -2.19404721e+00  4.75582741e+00  3.93659470e+00]\n",
      " [ 5.96432355e-01 -8.19614789e-02 -4.72293514e-01 -4.43127741e-01]\n",
      " [-3.98264718e-01 -1.00136286e-01  2.96268258e-01  6.84383692e-01]\n",
      " [ 2.91488744e+00  5.31678098e-02 -4.89771747e-01 -5.60667287e-01]\n",
      " [-9.71810607e-01 -2.46099151e-01 -7.54168020e-01  8.78963711e-01]\n",
      " [-2.18554217e+00  8.97906413e-01 -8.22296283e-01  2.23100289e+00]\n",
      " [ 3.23465791e+00  9.96811449e-01 -8.72122657e-01  9.44099594e-01]\n",
      " [ 1.59373385e+00  5.28034516e-01 -1.05193321e+00 -2.07379394e-01]\n",
      " [ 1.08228984e+00  1.75813631e-01 -4.54773846e-01 -4.50594588e-01]\n",
      " [-4.77634274e-01 -9.63527296e-02 -5.70668454e-01  3.23587766e-01]\n",
      " [-1.87888365e+00  7.05250114e-01 -9.65528717e-01  2.06249272e+00]\n",
      " [ 2.29118932e+00  8.19989530e-01 -1.23215189e+00 -4.32671225e-01]\n",
      " [-5.44850191e-01 -1.61850787e-01  1.68665965e-01 -4.77832900e-01]\n",
      " [-6.86487736e-01 -5.21764515e-01  3.76346237e-01 -6.55580972e-01]\n",
      " [-2.08564326e+00 -1.49073251e+00  9.22542479e-01 -7.09090489e-01]\n",
      " [-4.55270824e-01 -6.35250887e-01  4.25847525e-01 -3.99656463e-01]\n",
      " [-2.20224927e+00 -2.67452932e+00  1.92054667e+00 -1.86956361e+00]\n",
      " [-2.99849412e-01 -2.53575083e-01  1.38107195e-02 -3.95571607e-01]\n",
      " [ 1.78393791e+00  1.94619160e+00 -1.86660128e+00  9.89158499e-01]\n",
      " [ 3.81210647e-01  2.44809838e-01 -2.44221803e-01  2.35270953e-02]\n",
      " [-4.31351734e-01  1.03849154e-01  7.43532564e-02 -1.61173717e-02]\n",
      " [ 1.04252191e+00 -9.31749542e-03 -7.97028626e-02 -5.91140845e-01]\n",
      " [ 1.23460885e-01 -1.17371161e-01 -1.52211085e-01 -4.60361356e-01]\n",
      " [ 1.80133075e-01  1.27916014e-01 -2.28265931e-01 -2.85525510e-01]\n",
      " [-1.82293560e-02  8.55459696e-01  1.51581089e-01 -1.87859042e-01]\n",
      " [ 4.45981775e-01 -1.66461475e-01  2.37872376e-01 -1.08993865e-01]\n",
      " [-9.27438662e-01 -2.43567324e-01 -7.23191028e-01  8.21298113e-01]\n",
      " [ 2.70939612e-01 -2.42927702e-01 -3.07100091e-02 -6.81695596e-01]\n",
      " [ 7.26636909e-01 -1.50155411e-01 -3.09728842e-01 -8.72844242e-01]\n",
      " [ 1.63438891e+00 -3.48706029e-01 -6.55281726e-01 -7.80983281e-01]\n",
      " [ 6.19174175e-01 -1.49877853e-01 -4.95220154e-01 -4.64415743e-01]\n",
      " [ 2.47413254e-01 -1.04419072e-01  7.61305568e-01 -2.34456340e-01]\n",
      " [-1.87449136e+00 -1.88602859e-01 -1.68122488e+00  2.34978390e+00]\n",
      " [-1.36582915e+00 -4.73944230e-01 -6.82657108e-01  8.49842289e-01]\n",
      " [ 2.01622311e+00 -3.82682401e-01  8.58223876e-01  1.04928078e+00]\n",
      " [-5.62350982e-01 -2.92590212e-01 -1.72216918e-01 -6.35877078e-02]\n",
      " [ 2.18862398e+00 -5.51045348e-02  2.91637892e-01 -2.41450317e-01]\n",
      " [-9.06496339e-01 -5.07613747e-01 -1.68283309e-01  6.13730891e-02]\n",
      " [-3.07915106e-01 -5.13946131e-01  6.73250850e-02 -6.32310660e-01]]\n"
     ]
    }
   ],
   "source": [
    "print(y_sklearn)"
   ]
  },
  {
   "cell_type": "code",
   "execution_count": null,
   "metadata": {},
   "outputs": [],
   "source": []
  }
 ],
 "metadata": {
  "kernelspec": {
   "display_name": "Python 3",
   "language": "python",
   "name": "python3"
  },
  "language_info": {
   "codemirror_mode": {
    "name": "ipython",
    "version": 3
   },
   "file_extension": ".py",
   "mimetype": "text/x-python",
   "name": "python",
   "nbconvert_exporter": "python",
   "pygments_lexer": "ipython3",
   "version": "3.7.6"
  }
 },
 "nbformat": 4,
 "nbformat_minor": 4
}
