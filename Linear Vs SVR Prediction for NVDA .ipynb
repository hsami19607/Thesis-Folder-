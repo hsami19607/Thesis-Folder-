{
 "cells": [
  {
   "cell_type": "code",
   "execution_count": 2,
   "metadata": {},
   "outputs": [],
   "source": [
    "import pandas as pd\n",
    "import numpy as np\n",
    "from sklearn.linear_model import LinearRegression\n",
    "from sklearn.svm import SVR\n",
    "from sklearn.model_selection import train_test_split"
   ]
  },
  {
   "cell_type": "code",
   "execution_count": 3,
   "metadata": {},
   "outputs": [
    {
     "data": {
      "text/plain": [
       "'C:\\\\Users\\\\Owner'"
      ]
     },
     "execution_count": 3,
     "metadata": {},
     "output_type": "execute_result"
    }
   ],
   "source": [
    "pwd"
   ]
  },
  {
   "cell_type": "code",
   "execution_count": 4,
   "metadata": {},
   "outputs": [
    {
     "data": {
      "text/html": [
       "<div>\n",
       "<style scoped>\n",
       "    .dataframe tbody tr th:only-of-type {\n",
       "        vertical-align: middle;\n",
       "    }\n",
       "\n",
       "    .dataframe tbody tr th {\n",
       "        vertical-align: top;\n",
       "    }\n",
       "\n",
       "    .dataframe thead th {\n",
       "        text-align: right;\n",
       "    }\n",
       "</style>\n",
       "<table border=\"1\" class=\"dataframe\">\n",
       "  <thead>\n",
       "    <tr style=\"text-align: right;\">\n",
       "      <th></th>\n",
       "      <th>Date</th>\n",
       "      <th>Open</th>\n",
       "      <th>High</th>\n",
       "      <th>Low</th>\n",
       "      <th>Close</th>\n",
       "      <th>Adj Close</th>\n",
       "      <th>Volume</th>\n",
       "    </tr>\n",
       "  </thead>\n",
       "  <tbody>\n",
       "    <tr>\n",
       "      <th>0</th>\n",
       "      <td>2008-01-02</td>\n",
       "      <td>34.119999</td>\n",
       "      <td>34.250000</td>\n",
       "      <td>32.560001</td>\n",
       "      <td>33.009998</td>\n",
       "      <td>30.358782</td>\n",
       "      <td>12099100</td>\n",
       "    </tr>\n",
       "    <tr>\n",
       "      <th>1</th>\n",
       "      <td>2008-01-03</td>\n",
       "      <td>33.200001</td>\n",
       "      <td>33.860001</td>\n",
       "      <td>32.630001</td>\n",
       "      <td>32.750000</td>\n",
       "      <td>30.119659</td>\n",
       "      <td>11882700</td>\n",
       "    </tr>\n",
       "    <tr>\n",
       "      <th>2</th>\n",
       "      <td>2008-01-04</td>\n",
       "      <td>31.770000</td>\n",
       "      <td>31.930000</td>\n",
       "      <td>29.799999</td>\n",
       "      <td>30.000000</td>\n",
       "      <td>27.590534</td>\n",
       "      <td>18402300</td>\n",
       "    </tr>\n",
       "    <tr>\n",
       "      <th>3</th>\n",
       "      <td>2008-01-07</td>\n",
       "      <td>30.200001</td>\n",
       "      <td>30.450001</td>\n",
       "      <td>26.350000</td>\n",
       "      <td>26.900000</td>\n",
       "      <td>24.739513</td>\n",
       "      <td>25170000</td>\n",
       "    </tr>\n",
       "    <tr>\n",
       "      <th>4</th>\n",
       "      <td>2008-01-08</td>\n",
       "      <td>27.049999</td>\n",
       "      <td>29.290001</td>\n",
       "      <td>26.420000</td>\n",
       "      <td>27.469999</td>\n",
       "      <td>25.263729</td>\n",
       "      <td>27673900</td>\n",
       "    </tr>\n",
       "    <tr>\n",
       "      <th>...</th>\n",
       "      <td>...</td>\n",
       "      <td>...</td>\n",
       "      <td>...</td>\n",
       "      <td>...</td>\n",
       "      <td>...</td>\n",
       "      <td>...</td>\n",
       "      <td>...</td>\n",
       "    </tr>\n",
       "    <tr>\n",
       "      <th>3015</th>\n",
       "      <td>2019-12-23</td>\n",
       "      <td>240.520004</td>\n",
       "      <td>241.809998</td>\n",
       "      <td>238.389999</td>\n",
       "      <td>238.820007</td>\n",
       "      <td>238.497025</td>\n",
       "      <td>8876500</td>\n",
       "    </tr>\n",
       "    <tr>\n",
       "      <th>3016</th>\n",
       "      <td>2019-12-24</td>\n",
       "      <td>238.199997</td>\n",
       "      <td>239.309998</td>\n",
       "      <td>236.820007</td>\n",
       "      <td>238.619995</td>\n",
       "      <td>238.297287</td>\n",
       "      <td>3471600</td>\n",
       "    </tr>\n",
       "    <tr>\n",
       "      <th>3017</th>\n",
       "      <td>2019-12-26</td>\n",
       "      <td>238.759995</td>\n",
       "      <td>240.320007</td>\n",
       "      <td>238.000000</td>\n",
       "      <td>239.190002</td>\n",
       "      <td>238.866516</td>\n",
       "      <td>4571300</td>\n",
       "    </tr>\n",
       "    <tr>\n",
       "      <th>3018</th>\n",
       "      <td>2019-12-27</td>\n",
       "      <td>239.800003</td>\n",
       "      <td>240.339996</td>\n",
       "      <td>235.809998</td>\n",
       "      <td>236.869995</td>\n",
       "      <td>236.549637</td>\n",
       "      <td>6366100</td>\n",
       "    </tr>\n",
       "    <tr>\n",
       "      <th>3019</th>\n",
       "      <td>2019-12-30</td>\n",
       "      <td>235.990005</td>\n",
       "      <td>236.199997</td>\n",
       "      <td>231.059998</td>\n",
       "      <td>232.320007</td>\n",
       "      <td>232.005798</td>\n",
       "      <td>6451400</td>\n",
       "    </tr>\n",
       "  </tbody>\n",
       "</table>\n",
       "<p>3020 rows × 7 columns</p>\n",
       "</div>"
      ],
      "text/plain": [
       "            Date        Open        High         Low       Close   Adj Close  \\\n",
       "0     2008-01-02   34.119999   34.250000   32.560001   33.009998   30.358782   \n",
       "1     2008-01-03   33.200001   33.860001   32.630001   32.750000   30.119659   \n",
       "2     2008-01-04   31.770000   31.930000   29.799999   30.000000   27.590534   \n",
       "3     2008-01-07   30.200001   30.450001   26.350000   26.900000   24.739513   \n",
       "4     2008-01-08   27.049999   29.290001   26.420000   27.469999   25.263729   \n",
       "...          ...         ...         ...         ...         ...         ...   \n",
       "3015  2019-12-23  240.520004  241.809998  238.389999  238.820007  238.497025   \n",
       "3016  2019-12-24  238.199997  239.309998  236.820007  238.619995  238.297287   \n",
       "3017  2019-12-26  238.759995  240.320007  238.000000  239.190002  238.866516   \n",
       "3018  2019-12-27  239.800003  240.339996  235.809998  236.869995  236.549637   \n",
       "3019  2019-12-30  235.990005  236.199997  231.059998  232.320007  232.005798   \n",
       "\n",
       "        Volume  \n",
       "0     12099100  \n",
       "1     11882700  \n",
       "2     18402300  \n",
       "3     25170000  \n",
       "4     27673900  \n",
       "...        ...  \n",
       "3015   8876500  \n",
       "3016   3471600  \n",
       "3017   4571300  \n",
       "3018   6366100  \n",
       "3019   6451400  \n",
       "\n",
       "[3020 rows x 7 columns]"
      ]
     },
     "execution_count": 4,
     "metadata": {},
     "output_type": "execute_result"
    }
   ],
   "source": [
    "df = pd.read_csv(r'C:\\\\Users\\\\Owner\\Desktop\\NVDA.csv')\n",
    "df"
   ]
  },
  {
   "cell_type": "code",
   "execution_count": 5,
   "metadata": {},
   "outputs": [
    {
     "data": {
      "text/html": [
       "<div>\n",
       "<style scoped>\n",
       "    .dataframe tbody tr th:only-of-type {\n",
       "        vertical-align: middle;\n",
       "    }\n",
       "\n",
       "    .dataframe tbody tr th {\n",
       "        vertical-align: top;\n",
       "    }\n",
       "\n",
       "    .dataframe thead th {\n",
       "        text-align: right;\n",
       "    }\n",
       "</style>\n",
       "<table border=\"1\" class=\"dataframe\">\n",
       "  <thead>\n",
       "    <tr style=\"text-align: right;\">\n",
       "      <th></th>\n",
       "      <th>Date</th>\n",
       "      <th>Open</th>\n",
       "      <th>High</th>\n",
       "      <th>Low</th>\n",
       "      <th>Close</th>\n",
       "      <th>Adj Close</th>\n",
       "      <th>Volume</th>\n",
       "    </tr>\n",
       "  </thead>\n",
       "  <tbody>\n",
       "    <tr>\n",
       "      <th>0</th>\n",
       "      <td>2008-01-02</td>\n",
       "      <td>34.119999</td>\n",
       "      <td>34.250000</td>\n",
       "      <td>32.560001</td>\n",
       "      <td>33.009998</td>\n",
       "      <td>30.358782</td>\n",
       "      <td>12099100</td>\n",
       "    </tr>\n",
       "    <tr>\n",
       "      <th>1</th>\n",
       "      <td>2008-01-03</td>\n",
       "      <td>33.200001</td>\n",
       "      <td>33.860001</td>\n",
       "      <td>32.630001</td>\n",
       "      <td>32.750000</td>\n",
       "      <td>30.119659</td>\n",
       "      <td>11882700</td>\n",
       "    </tr>\n",
       "    <tr>\n",
       "      <th>2</th>\n",
       "      <td>2008-01-04</td>\n",
       "      <td>31.770000</td>\n",
       "      <td>31.930000</td>\n",
       "      <td>29.799999</td>\n",
       "      <td>30.000000</td>\n",
       "      <td>27.590534</td>\n",
       "      <td>18402300</td>\n",
       "    </tr>\n",
       "    <tr>\n",
       "      <th>3</th>\n",
       "      <td>2008-01-07</td>\n",
       "      <td>30.200001</td>\n",
       "      <td>30.450001</td>\n",
       "      <td>26.350000</td>\n",
       "      <td>26.900000</td>\n",
       "      <td>24.739513</td>\n",
       "      <td>25170000</td>\n",
       "    </tr>\n",
       "    <tr>\n",
       "      <th>4</th>\n",
       "      <td>2008-01-08</td>\n",
       "      <td>27.049999</td>\n",
       "      <td>29.290001</td>\n",
       "      <td>26.420000</td>\n",
       "      <td>27.469999</td>\n",
       "      <td>25.263729</td>\n",
       "      <td>27673900</td>\n",
       "    </tr>\n",
       "  </tbody>\n",
       "</table>\n",
       "</div>"
      ],
      "text/plain": [
       "         Date       Open       High        Low      Close  Adj Close    Volume\n",
       "0  2008-01-02  34.119999  34.250000  32.560001  33.009998  30.358782  12099100\n",
       "1  2008-01-03  33.200001  33.860001  32.630001  32.750000  30.119659  11882700\n",
       "2  2008-01-04  31.770000  31.930000  29.799999  30.000000  27.590534  18402300\n",
       "3  2008-01-07  30.200001  30.450001  26.350000  26.900000  24.739513  25170000\n",
       "4  2008-01-08  27.049999  29.290001  26.420000  27.469999  25.263729  27673900"
      ]
     },
     "execution_count": 5,
     "metadata": {},
     "output_type": "execute_result"
    }
   ],
   "source": [
    "df.head()"
   ]
  },
  {
   "cell_type": "code",
   "execution_count": 6,
   "metadata": {},
   "outputs": [
    {
     "data": {
      "text/html": [
       "<div>\n",
       "<style scoped>\n",
       "    .dataframe tbody tr th:only-of-type {\n",
       "        vertical-align: middle;\n",
       "    }\n",
       "\n",
       "    .dataframe tbody tr th {\n",
       "        vertical-align: top;\n",
       "    }\n",
       "\n",
       "    .dataframe thead th {\n",
       "        text-align: right;\n",
       "    }\n",
       "</style>\n",
       "<table border=\"1\" class=\"dataframe\">\n",
       "  <thead>\n",
       "    <tr style=\"text-align: right;\">\n",
       "      <th></th>\n",
       "      <th>Date</th>\n",
       "      <th>Open</th>\n",
       "      <th>High</th>\n",
       "      <th>Low</th>\n",
       "      <th>Close</th>\n",
       "      <th>Adj Close</th>\n",
       "      <th>Volume</th>\n",
       "    </tr>\n",
       "  </thead>\n",
       "  <tbody>\n",
       "    <tr>\n",
       "      <th>3015</th>\n",
       "      <td>2019-12-23</td>\n",
       "      <td>240.520004</td>\n",
       "      <td>241.809998</td>\n",
       "      <td>238.389999</td>\n",
       "      <td>238.820007</td>\n",
       "      <td>238.497025</td>\n",
       "      <td>8876500</td>\n",
       "    </tr>\n",
       "    <tr>\n",
       "      <th>3016</th>\n",
       "      <td>2019-12-24</td>\n",
       "      <td>238.199997</td>\n",
       "      <td>239.309998</td>\n",
       "      <td>236.820007</td>\n",
       "      <td>238.619995</td>\n",
       "      <td>238.297287</td>\n",
       "      <td>3471600</td>\n",
       "    </tr>\n",
       "    <tr>\n",
       "      <th>3017</th>\n",
       "      <td>2019-12-26</td>\n",
       "      <td>238.759995</td>\n",
       "      <td>240.320007</td>\n",
       "      <td>238.000000</td>\n",
       "      <td>239.190002</td>\n",
       "      <td>238.866516</td>\n",
       "      <td>4571300</td>\n",
       "    </tr>\n",
       "    <tr>\n",
       "      <th>3018</th>\n",
       "      <td>2019-12-27</td>\n",
       "      <td>239.800003</td>\n",
       "      <td>240.339996</td>\n",
       "      <td>235.809998</td>\n",
       "      <td>236.869995</td>\n",
       "      <td>236.549637</td>\n",
       "      <td>6366100</td>\n",
       "    </tr>\n",
       "    <tr>\n",
       "      <th>3019</th>\n",
       "      <td>2019-12-30</td>\n",
       "      <td>235.990005</td>\n",
       "      <td>236.199997</td>\n",
       "      <td>231.059998</td>\n",
       "      <td>232.320007</td>\n",
       "      <td>232.005798</td>\n",
       "      <td>6451400</td>\n",
       "    </tr>\n",
       "  </tbody>\n",
       "</table>\n",
       "</div>"
      ],
      "text/plain": [
       "            Date        Open        High         Low       Close   Adj Close  \\\n",
       "3015  2019-12-23  240.520004  241.809998  238.389999  238.820007  238.497025   \n",
       "3016  2019-12-24  238.199997  239.309998  236.820007  238.619995  238.297287   \n",
       "3017  2019-12-26  238.759995  240.320007  238.000000  239.190002  238.866516   \n",
       "3018  2019-12-27  239.800003  240.339996  235.809998  236.869995  236.549637   \n",
       "3019  2019-12-30  235.990005  236.199997  231.059998  232.320007  232.005798   \n",
       "\n",
       "       Volume  \n",
       "3015  8876500  \n",
       "3016  3471600  \n",
       "3017  4571300  \n",
       "3018  6366100  \n",
       "3019  6451400  "
      ]
     },
     "execution_count": 6,
     "metadata": {},
     "output_type": "execute_result"
    }
   ],
   "source": [
    "df.tail()"
   ]
  },
  {
   "cell_type": "code",
   "execution_count": 7,
   "metadata": {},
   "outputs": [
    {
     "data": {
      "text/html": [
       "<div>\n",
       "<style scoped>\n",
       "    .dataframe tbody tr th:only-of-type {\n",
       "        vertical-align: middle;\n",
       "    }\n",
       "\n",
       "    .dataframe tbody tr th {\n",
       "        vertical-align: top;\n",
       "    }\n",
       "\n",
       "    .dataframe thead th {\n",
       "        text-align: right;\n",
       "    }\n",
       "</style>\n",
       "<table border=\"1\" class=\"dataframe\">\n",
       "  <thead>\n",
       "    <tr style=\"text-align: right;\">\n",
       "      <th></th>\n",
       "      <th>Adj Close</th>\n",
       "    </tr>\n",
       "  </thead>\n",
       "  <tbody>\n",
       "    <tr>\n",
       "      <th>0</th>\n",
       "      <td>30.358782</td>\n",
       "    </tr>\n",
       "    <tr>\n",
       "      <th>1</th>\n",
       "      <td>30.119659</td>\n",
       "    </tr>\n",
       "    <tr>\n",
       "      <th>2</th>\n",
       "      <td>27.590534</td>\n",
       "    </tr>\n",
       "    <tr>\n",
       "      <th>3</th>\n",
       "      <td>24.739513</td>\n",
       "    </tr>\n",
       "    <tr>\n",
       "      <th>4</th>\n",
       "      <td>25.263729</td>\n",
       "    </tr>\n",
       "    <tr>\n",
       "      <th>...</th>\n",
       "      <td>...</td>\n",
       "    </tr>\n",
       "    <tr>\n",
       "      <th>3015</th>\n",
       "      <td>238.497025</td>\n",
       "    </tr>\n",
       "    <tr>\n",
       "      <th>3016</th>\n",
       "      <td>238.297287</td>\n",
       "    </tr>\n",
       "    <tr>\n",
       "      <th>3017</th>\n",
       "      <td>238.866516</td>\n",
       "    </tr>\n",
       "    <tr>\n",
       "      <th>3018</th>\n",
       "      <td>236.549637</td>\n",
       "    </tr>\n",
       "    <tr>\n",
       "      <th>3019</th>\n",
       "      <td>232.005798</td>\n",
       "    </tr>\n",
       "  </tbody>\n",
       "</table>\n",
       "<p>3020 rows × 1 columns</p>\n",
       "</div>"
      ],
      "text/plain": [
       "       Adj Close\n",
       "0      30.358782\n",
       "1      30.119659\n",
       "2      27.590534\n",
       "3      24.739513\n",
       "4      25.263729\n",
       "...          ...\n",
       "3015  238.497025\n",
       "3016  238.297287\n",
       "3017  238.866516\n",
       "3018  236.549637\n",
       "3019  232.005798\n",
       "\n",
       "[3020 rows x 1 columns]"
      ]
     },
     "execution_count": 7,
     "metadata": {},
     "output_type": "execute_result"
    }
   ],
   "source": [
    "df = df[['Adj Close']]\n",
    "df"
   ]
  },
  {
   "cell_type": "code",
   "execution_count": 8,
   "metadata": {},
   "outputs": [
    {
     "name": "stdout",
     "output_type": "stream",
     "text": [
      "       Adj Close  Prediction\n",
      "3015  238.497025         NaN\n",
      "3016  238.297287         NaN\n",
      "3017  238.866516         NaN\n",
      "3018  236.549637         NaN\n",
      "3019  232.005798         NaN\n"
     ]
    },
    {
     "name": "stderr",
     "output_type": "stream",
     "text": [
      "C:\\Users\\Owner\\anaconda3\\lib\\site-packages\\ipykernel_launcher.py:3: SettingWithCopyWarning: \n",
      "A value is trying to be set on a copy of a slice from a DataFrame.\n",
      "Try using .loc[row_indexer,col_indexer] = value instead\n",
      "\n",
      "See the caveats in the documentation: https://pandas.pydata.org/pandas-docs/stable/user_guide/indexing.html#returning-a-view-versus-a-copy\n",
      "  This is separate from the ipykernel package so we can avoid doing imports until\n"
     ]
    }
   ],
   "source": [
    "# forecast the price for n = 30 days out into the future\n",
    "forecast_out = 30\n",
    "df['Prediction'] = df[['Adj Close']].shift(-forecast_out)\n",
    "print(df.tail())"
   ]
  },
  {
   "cell_type": "code",
   "execution_count": 9,
   "metadata": {},
   "outputs": [],
   "source": [
    "# Create the Indepedent DataSet as X\n",
    "# Convert the Dataframe to a numpy array\n",
    "x = np.array(df.drop(['Prediction'], 1))"
   ]
  },
  {
   "cell_type": "code",
   "execution_count": 10,
   "metadata": {},
   "outputs": [
    {
     "name": "stdout",
     "output_type": "stream",
     "text": [
      "[[ 30.358782]\n",
      " [ 30.119659]\n",
      " [ 27.590534]\n",
      " ...\n",
      " [209.17218 ]\n",
      " [208.134369]\n",
      " [209.351807]]\n"
     ]
    }
   ],
   "source": [
    "x = x[:-forecast_out]\n",
    "print(x)"
   ]
  },
  {
   "cell_type": "code",
   "execution_count": 11,
   "metadata": {},
   "outputs": [
    {
     "name": "stdout",
     "output_type": "stream",
     "text": [
      "[ 20.794064  20.481365  20.177877 ... 238.866516 236.549637 232.005798]\n"
     ]
    }
   ],
   "source": [
    "# Create the dependent dataset of Y values\n",
    "# Convert the dataframe to a numpy array (All of the values including NaN)\n",
    "y = np.array(df['Prediction'])\n",
    "# Gte all of the Y values except the last 'n' rows\n",
    "y = y[: -forecast_out]\n",
    "print(y)"
   ]
  },
  {
   "cell_type": "code",
   "execution_count": 12,
   "metadata": {},
   "outputs": [],
   "source": [
    "# Split the Data into 80% Traning and 20% Testing\n",
    "x_train, x_test, y_train, y_test = train_test_split(x, y, test_size = 0.2)"
   ]
  },
  {
   "cell_type": "code",
   "execution_count": 13,
   "metadata": {},
   "outputs": [
    {
     "data": {
      "text/plain": [
       "SVR(C=1000.0, cache_size=200, coef0=0.0, degree=3, epsilon=0.1, gamma=0.1,\n",
       "    kernel='rbf', max_iter=-1, shrinking=True, tol=0.001, verbose=False)"
      ]
     },
     "execution_count": 13,
     "metadata": {},
     "output_type": "execute_result"
    }
   ],
   "source": [
    "# Applying Support Vector Regression\n",
    "svr_rbf = SVR(kernel = 'rbf', C = 1e3, gamma = 0.1)\n",
    "svr_rbf.fit(x_train, y_train)"
   ]
  },
  {
   "cell_type": "code",
   "execution_count": 14,
   "metadata": {},
   "outputs": [
    {
     "name": "stdout",
     "output_type": "stream",
     "text": [
      "SVM Confidence:  0.9663387508432769\n"
     ]
    }
   ],
   "source": [
    "# Testing Model: Score returning the coefficients of determination of prediction\n",
    "# The best possible score is 1.0 as it means the predicted score and real are same\n",
    "svm_confidence = svr_rbf.score(x_test, y_test)\n",
    "print(\"SVM Confidence: \", svm_confidence)"
   ]
  },
  {
   "cell_type": "code",
   "execution_count": 15,
   "metadata": {},
   "outputs": [
    {
     "data": {
      "text/plain": [
       "LinearRegression(copy_X=True, fit_intercept=True, n_jobs=None, normalize=False)"
      ]
     },
     "execution_count": 15,
     "metadata": {},
     "output_type": "execute_result"
    }
   ],
   "source": [
    "# Create and train the Linear Regression Model \n",
    "lr = LinearRegression()\n",
    "lr.fit(x_train, y_train)            # fitting the Data "
   ]
  },
  {
   "cell_type": "code",
   "execution_count": 16,
   "metadata": {},
   "outputs": [
    {
     "name": "stdout",
     "output_type": "stream",
     "text": [
      "Linear Regression Confidence:  0.9621453540195543\n"
     ]
    }
   ],
   "source": [
    "# Testing Model: Score returning the coefficients of determination of prediction\n",
    "# The best possible score is 1.0 as it means the predicted score and real are same\n",
    "lr_confidence = lr.score(x_test, y_test)\n",
    "print(\"Linear Regression Confidence: \", lr_confidence)"
   ]
  },
  {
   "cell_type": "code",
   "execution_count": 17,
   "metadata": {},
   "outputs": [
    {
     "name": "stdout",
     "output_type": "stream",
     "text": [
      "[[ 20.794064]\n",
      " [ 20.481365]\n",
      " [ 20.177877]\n",
      " ...\n",
      " [238.866516]\n",
      " [236.549637]\n",
      " [232.005798]]\n"
     ]
    }
   ],
   "source": [
    "# Set x_forecast equal to the last 30 rows of original data set from Adj.Close column\n",
    "x_forecast = np.array(df.drop(['Prediction'], 1))[forecast_out:]\n",
    "print(x_forecast)"
   ]
  },
  {
   "cell_type": "code",
   "execution_count": 18,
   "metadata": {},
   "outputs": [
    {
     "name": "stdout",
     "output_type": "stream",
     "text": [
      "[ 22.67064515  22.3572293   22.05304556 ... 241.24302389 238.92083349\n",
      " 234.36657783]\n"
     ]
    }
   ],
   "source": [
    "lr_prediction = lr.predict(x_forecast)\n",
    "print(lr_prediction)"
   ]
  },
  {
   "cell_type": "code",
   "execution_count": 19,
   "metadata": {},
   "outputs": [
    {
     "name": "stdout",
     "output_type": "stream",
     "text": [
      "[ 19.94706631  19.73021116  19.64308944 ... 224.52593808 247.26610925\n",
      " 238.31950929]\n"
     ]
    }
   ],
   "source": [
    "svm_prediction = svr_rbf.predict(x_forecast)\n",
    "print(svm_prediction)"
   ]
  },
  {
   "cell_type": "code",
   "execution_count": 29,
   "metadata": {},
   "outputs": [
    {
     "data": {
      "text/plain": [
       "array([206.05953894, 214.15113633, 209.86028514, 213.05091787,\n",
       "       212.05072018, 212.76087147, 223.08292645, 218.87207824,\n",
       "       220.2734004 , 218.77199533, 211.27495883, 209.68348977,\n",
       "       211.44511803, 210.76448326, 214.19770585, 214.19770585,\n",
       "       216.00940563, 219.37255094, 226.10887551, 226.02878232,\n",
       "       227.18985497, 230.33278559, 231.55393164, 237.50952449,\n",
       "       241.42318496, 240.87268584, 240.67248994, 241.24302389,\n",
       "       238.92083349, 234.36657783])"
      ]
     },
     "execution_count": 29,
     "metadata": {},
     "output_type": "execute_result"
    }
   ],
   "source": [
    "lr_prediction[2960:]"
   ]
  },
  {
   "cell_type": "code",
   "execution_count": 30,
   "metadata": {},
   "outputs": [
    {
     "data": {
      "text/plain": [
       "array([189.20192605, 206.73331548, 234.94794951, 195.60160769,\n",
       "       205.61757957, 196.10860995, 248.0137929 , 223.55883713,\n",
       "       235.10507737, 223.19442624, 223.6900725 , 232.54836447,\n",
       "       219.68200922, 233.43326961, 207.38166965, 207.38166965,\n",
       "       219.22349708, 226.16772152, 253.42884889, 253.05561343,\n",
       "       254.00706305, 234.70436746, 235.67333202, 253.12754775,\n",
       "       225.1013227 , 224.45767343, 225.09795543, 224.52593808,\n",
       "       247.26610925, 238.31950929])"
      ]
     },
     "execution_count": 30,
     "metadata": {},
     "output_type": "execute_result"
    }
   ],
   "source": [
    "svm_prediction[2960:]"
   ]
  },
  {
   "cell_type": "code",
   "execution_count": null,
   "metadata": {},
   "outputs": [],
   "source": []
  }
 ],
 "metadata": {
  "kernelspec": {
   "display_name": "Python 3",
   "language": "python",
   "name": "python3"
  },
  "language_info": {
   "codemirror_mode": {
    "name": "ipython",
    "version": 3
   },
   "file_extension": ".py",
   "mimetype": "text/x-python",
   "name": "python",
   "nbconvert_exporter": "python",
   "pygments_lexer": "ipython3",
   "version": "3.7.6"
  }
 },
 "nbformat": 4,
 "nbformat_minor": 4
}
