{
 "cells": [
  {
   "cell_type": "code",
   "execution_count": 1,
   "metadata": {},
   "outputs": [],
   "source": [
    "import numpy as np \n",
    "import matplotlib.pyplot as plt \n",
    "import pandas as pd\n",
    "from sklearn.preprocessing import MinMaxScaler"
   ]
  },
  {
   "cell_type": "code",
   "execution_count": 2,
   "metadata": {},
   "outputs": [
    {
     "data": {
      "text/plain": [
       "'C:\\\\Users\\\\Owner'"
      ]
     },
     "execution_count": 2,
     "metadata": {},
     "output_type": "execute_result"
    }
   ],
   "source": [
    "pwd"
   ]
  },
  {
   "cell_type": "code",
   "execution_count": 4,
   "metadata": {},
   "outputs": [
    {
     "data": {
      "text/html": [
       "<div>\n",
       "<style scoped>\n",
       "    .dataframe tbody tr th:only-of-type {\n",
       "        vertical-align: middle;\n",
       "    }\n",
       "\n",
       "    .dataframe tbody tr th {\n",
       "        vertical-align: top;\n",
       "    }\n",
       "\n",
       "    .dataframe thead th {\n",
       "        text-align: right;\n",
       "    }\n",
       "</style>\n",
       "<table border=\"1\" class=\"dataframe\">\n",
       "  <thead>\n",
       "    <tr style=\"text-align: right;\">\n",
       "      <th></th>\n",
       "      <th>Date</th>\n",
       "      <th>Open</th>\n",
       "      <th>High</th>\n",
       "      <th>Low</th>\n",
       "      <th>Close</th>\n",
       "      <th>Adj Close</th>\n",
       "      <th>Volume</th>\n",
       "    </tr>\n",
       "  </thead>\n",
       "  <tbody>\n",
       "    <tr>\n",
       "      <th>0</th>\n",
       "      <td>2008-01-02</td>\n",
       "      <td>34.119999</td>\n",
       "      <td>34.250000</td>\n",
       "      <td>32.560001</td>\n",
       "      <td>33.009998</td>\n",
       "      <td>30.358782</td>\n",
       "      <td>12099100</td>\n",
       "    </tr>\n",
       "    <tr>\n",
       "      <th>1</th>\n",
       "      <td>2008-01-03</td>\n",
       "      <td>33.200001</td>\n",
       "      <td>33.860001</td>\n",
       "      <td>32.630001</td>\n",
       "      <td>32.750000</td>\n",
       "      <td>30.119659</td>\n",
       "      <td>11882700</td>\n",
       "    </tr>\n",
       "    <tr>\n",
       "      <th>2</th>\n",
       "      <td>2008-01-04</td>\n",
       "      <td>31.770000</td>\n",
       "      <td>31.930000</td>\n",
       "      <td>29.799999</td>\n",
       "      <td>30.000000</td>\n",
       "      <td>27.590534</td>\n",
       "      <td>18402300</td>\n",
       "    </tr>\n",
       "    <tr>\n",
       "      <th>3</th>\n",
       "      <td>2008-01-07</td>\n",
       "      <td>30.200001</td>\n",
       "      <td>30.450001</td>\n",
       "      <td>26.350000</td>\n",
       "      <td>26.900000</td>\n",
       "      <td>24.739513</td>\n",
       "      <td>25170000</td>\n",
       "    </tr>\n",
       "    <tr>\n",
       "      <th>4</th>\n",
       "      <td>2008-01-08</td>\n",
       "      <td>27.049999</td>\n",
       "      <td>29.290001</td>\n",
       "      <td>26.420000</td>\n",
       "      <td>27.469999</td>\n",
       "      <td>25.263729</td>\n",
       "      <td>27673900</td>\n",
       "    </tr>\n",
       "    <tr>\n",
       "      <th>...</th>\n",
       "      <td>...</td>\n",
       "      <td>...</td>\n",
       "      <td>...</td>\n",
       "      <td>...</td>\n",
       "      <td>...</td>\n",
       "      <td>...</td>\n",
       "      <td>...</td>\n",
       "    </tr>\n",
       "    <tr>\n",
       "      <th>3015</th>\n",
       "      <td>2019-12-23</td>\n",
       "      <td>240.520004</td>\n",
       "      <td>241.809998</td>\n",
       "      <td>238.389999</td>\n",
       "      <td>238.820007</td>\n",
       "      <td>238.497025</td>\n",
       "      <td>8876500</td>\n",
       "    </tr>\n",
       "    <tr>\n",
       "      <th>3016</th>\n",
       "      <td>2019-12-24</td>\n",
       "      <td>238.199997</td>\n",
       "      <td>239.309998</td>\n",
       "      <td>236.820007</td>\n",
       "      <td>238.619995</td>\n",
       "      <td>238.297287</td>\n",
       "      <td>3471600</td>\n",
       "    </tr>\n",
       "    <tr>\n",
       "      <th>3017</th>\n",
       "      <td>2019-12-26</td>\n",
       "      <td>238.759995</td>\n",
       "      <td>240.320007</td>\n",
       "      <td>238.000000</td>\n",
       "      <td>239.190002</td>\n",
       "      <td>238.866516</td>\n",
       "      <td>4571300</td>\n",
       "    </tr>\n",
       "    <tr>\n",
       "      <th>3018</th>\n",
       "      <td>2019-12-27</td>\n",
       "      <td>239.800003</td>\n",
       "      <td>240.339996</td>\n",
       "      <td>235.809998</td>\n",
       "      <td>236.869995</td>\n",
       "      <td>236.549637</td>\n",
       "      <td>6366100</td>\n",
       "    </tr>\n",
       "    <tr>\n",
       "      <th>3019</th>\n",
       "      <td>2019-12-30</td>\n",
       "      <td>235.990005</td>\n",
       "      <td>236.199997</td>\n",
       "      <td>231.059998</td>\n",
       "      <td>232.320007</td>\n",
       "      <td>232.005798</td>\n",
       "      <td>6451400</td>\n",
       "    </tr>\n",
       "  </tbody>\n",
       "</table>\n",
       "<p>3020 rows × 7 columns</p>\n",
       "</div>"
      ],
      "text/plain": [
       "            Date        Open        High         Low       Close   Adj Close  \\\n",
       "0     2008-01-02   34.119999   34.250000   32.560001   33.009998   30.358782   \n",
       "1     2008-01-03   33.200001   33.860001   32.630001   32.750000   30.119659   \n",
       "2     2008-01-04   31.770000   31.930000   29.799999   30.000000   27.590534   \n",
       "3     2008-01-07   30.200001   30.450001   26.350000   26.900000   24.739513   \n",
       "4     2008-01-08   27.049999   29.290001   26.420000   27.469999   25.263729   \n",
       "...          ...         ...         ...         ...         ...         ...   \n",
       "3015  2019-12-23  240.520004  241.809998  238.389999  238.820007  238.497025   \n",
       "3016  2019-12-24  238.199997  239.309998  236.820007  238.619995  238.297287   \n",
       "3017  2019-12-26  238.759995  240.320007  238.000000  239.190002  238.866516   \n",
       "3018  2019-12-27  239.800003  240.339996  235.809998  236.869995  236.549637   \n",
       "3019  2019-12-30  235.990005  236.199997  231.059998  232.320007  232.005798   \n",
       "\n",
       "        Volume  \n",
       "0     12099100  \n",
       "1     11882700  \n",
       "2     18402300  \n",
       "3     25170000  \n",
       "4     27673900  \n",
       "...        ...  \n",
       "3015   8876500  \n",
       "3016   3471600  \n",
       "3017   4571300  \n",
       "3018   6366100  \n",
       "3019   6451400  \n",
       "\n",
       "[3020 rows x 7 columns]"
      ]
     },
     "execution_count": 4,
     "metadata": {},
     "output_type": "execute_result"
    }
   ],
   "source": [
    "data = pd.read_csv(r\"C:\\\\Users\\\\Owner\\Desktop\\NVDA.csv\")\n",
    "data"
   ]
  },
  {
   "cell_type": "code",
   "execution_count": 5,
   "metadata": {},
   "outputs": [],
   "source": [
    "data_training = data[data['Date'] < '2019-05-05'].copy()\n",
    "data_testing = data[data['Date'] >= '2019-05-05'].copy()"
   ]
  },
  {
   "cell_type": "code",
   "execution_count": 6,
   "metadata": {},
   "outputs": [],
   "source": [
    "data_training = data_training.drop(['Date', 'Adj Close'], axis = 1)"
   ]
  },
  {
   "cell_type": "code",
   "execution_count": 7,
   "metadata": {},
   "outputs": [
    {
     "data": {
      "text/plain": [
       "(2854, 5)"
      ]
     },
     "execution_count": 7,
     "metadata": {},
     "output_type": "execute_result"
    }
   ],
   "source": [
    "data_training.shape"
   ]
  },
  {
   "cell_type": "code",
   "execution_count": 8,
   "metadata": {},
   "outputs": [
    {
     "data": {
      "text/plain": [
       "array([[0.09925172, 0.09731825, 0.09580818, 0.09563959, 0.1201771 ],\n",
       "       [0.09600452, 0.09595642, 0.09605833, 0.09472236, 0.11780382],\n",
       "       [0.09095722, 0.08921712, 0.08594504, 0.08502082, 0.1893047 ],\n",
       "       ...,\n",
       "       [0.62512352, 0.62305326, 0.62434341, 0.61585412, 0.08462078],\n",
       "       [0.61718197, 0.62326276, 0.61955474, 0.62544984, 0.09569861],\n",
       "       [0.62660594, 0.6199804 , 0.62459353, 0.6248148 , 0.07983475]])"
      ]
     },
     "execution_count": 8,
     "metadata": {},
     "output_type": "execute_result"
    }
   ],
   "source": [
    "scaler = MinMaxScaler()\n",
    "data_training = scaler.fit_transform(data_training)\n",
    "data_training"
   ]
  },
  {
   "cell_type": "code",
   "execution_count": 53,
   "metadata": {},
   "outputs": [],
   "source": [
    "x_train = []\n",
    "y_train = []\n",
    "\n",
    "for i in range(100, data_training.shape[0]):\n",
    "    x_train.append(data_training[i-100:i])\n",
    "    y_train.append(data_training[i, 0])\n",
    "\n",
    "x_train = np.array(x_train)\n",
    "y_train = np.array(y_train)"
   ]
  },
  {
   "cell_type": "code",
   "execution_count": 54,
   "metadata": {},
   "outputs": [
    {
     "data": {
      "text/plain": [
       "(2754, 100, 5)"
      ]
     },
     "execution_count": 54,
     "metadata": {},
     "output_type": "execute_result"
    }
   ],
   "source": [
    "x_train.shape"
   ]
  },
  {
   "cell_type": "code",
   "execution_count": 56,
   "metadata": {},
   "outputs": [],
   "source": [
    "from tensorflow.keras import Sequential\n",
    "from tensorflow.keras.layers import Dense, LSTM, Dropout"
   ]
  },
  {
   "cell_type": "code",
   "execution_count": 57,
   "metadata": {},
   "outputs": [],
   "source": [
    "regressor = Sequential()\n",
    "\n",
    "regressor.add(LSTM(units = 70, activation = 'relu', return_sequences = True, input_shape = (x_train.shape[1], 5)))\n",
    "regressor.add(Dropout(0.2))\n",
    "\n",
    "regressor.add(LSTM(units = 90, activation = 'relu', return_sequences = True))\n",
    "regressor.add(Dropout(0.2))\n",
    "\n",
    "regressor.add(LSTM(units = 110, activation = 'relu', return_sequences = True))\n",
    "regressor.add(Dropout(0.2))\n",
    "\n",
    "regressor.add(LSTM(units = 120, activation = 'relu'))\n",
    "regressor.add(Dropout(0.2))\n",
    "\n",
    "regressor.add(Dense(units = 1))"
   ]
  },
  {
   "cell_type": "code",
   "execution_count": 58,
   "metadata": {},
   "outputs": [
    {
     "name": "stdout",
     "output_type": "stream",
     "text": [
      "Model: \"sequential_2\"\n",
      "_________________________________________________________________\n",
      "Layer (type)                 Output Shape              Param #   \n",
      "=================================================================\n",
      "lstm_8 (LSTM)                (None, 100, 70)           21280     \n",
      "_________________________________________________________________\n",
      "dropout_8 (Dropout)          (None, 100, 70)           0         \n",
      "_________________________________________________________________\n",
      "lstm_9 (LSTM)                (None, 100, 90)           57960     \n",
      "_________________________________________________________________\n",
      "dropout_9 (Dropout)          (None, 100, 90)           0         \n",
      "_________________________________________________________________\n",
      "lstm_10 (LSTM)               (None, 100, 110)          88440     \n",
      "_________________________________________________________________\n",
      "dropout_10 (Dropout)         (None, 100, 110)          0         \n",
      "_________________________________________________________________\n",
      "lstm_11 (LSTM)               (None, 120)               110880    \n",
      "_________________________________________________________________\n",
      "dropout_11 (Dropout)         (None, 120)               0         \n",
      "_________________________________________________________________\n",
      "dense_2 (Dense)              (None, 1)                 121       \n",
      "=================================================================\n",
      "Total params: 278,681\n",
      "Trainable params: 278,681\n",
      "Non-trainable params: 0\n",
      "_________________________________________________________________\n"
     ]
    }
   ],
   "source": [
    "regressor.summary()"
   ]
  },
  {
   "cell_type": "code",
   "execution_count": 59,
   "metadata": {},
   "outputs": [
    {
     "name": "stdout",
     "output_type": "stream",
     "text": [
      "Epoch 1/150\n",
      "87/87 [==============================] - 27s 310ms/step - loss: 0.0087\n",
      "Epoch 2/150\n",
      "87/87 [==============================] - 29s 335ms/step - loss: 0.0036\n",
      "Epoch 3/150\n",
      "87/87 [==============================] - 35s 405ms/step - loss: 0.0019\n",
      "Epoch 4/150\n",
      "87/87 [==============================] - 28s 319ms/step - loss: 0.0016\n",
      "Epoch 5/150\n",
      "87/87 [==============================] - 26s 301ms/step - loss: 0.0014\n",
      "Epoch 6/150\n",
      "87/87 [==============================] - 26s 301ms/step - loss: 0.0020\n",
      "Epoch 7/150\n",
      "87/87 [==============================] - 26s 301ms/step - loss: 0.0016\n",
      "Epoch 8/150\n",
      "87/87 [==============================] - 27s 305ms/step - loss: 0.0011\n",
      "Epoch 9/150\n",
      "87/87 [==============================] - 27s 306ms/step - loss: 0.0013\n",
      "Epoch 10/150\n",
      "87/87 [==============================] - 26s 301ms/step - loss: 0.0014\n",
      "Epoch 11/150\n",
      "87/87 [==============================] - 26s 300ms/step - loss: 0.0013\n",
      "Epoch 12/150\n",
      "87/87 [==============================] - 27s 305ms/step - loss: 0.0012\n",
      "Epoch 13/150\n",
      "87/87 [==============================] - 26s 304ms/step - loss: 0.0012\n",
      "Epoch 14/150\n",
      "87/87 [==============================] - 26s 300ms/step - loss: 0.0012\n",
      "Epoch 15/150\n",
      "87/87 [==============================] - 26s 304ms/step - loss: 0.0013\n",
      "Epoch 16/150\n",
      "87/87 [==============================] - 26s 300ms/step - loss: 0.0011\n",
      "Epoch 17/150\n",
      "87/87 [==============================] - 26s 301ms/step - loss: 0.0011\n",
      "Epoch 18/150\n",
      "87/87 [==============================] - 26s 303ms/step - loss: 0.0011\n",
      "Epoch 19/150\n",
      "87/87 [==============================] - 27s 307ms/step - loss: 0.0010\n",
      "Epoch 20/150\n",
      "87/87 [==============================] - 26s 304ms/step - loss: 0.0013\n",
      "Epoch 21/150\n",
      "87/87 [==============================] - 26s 303ms/step - loss: 9.8547e-04\n",
      "Epoch 22/150\n",
      "87/87 [==============================] - 26s 302ms/step - loss: 0.0010\n",
      "Epoch 23/150\n",
      "87/87 [==============================] - 26s 302ms/step - loss: 9.5907e-04\n",
      "Epoch 24/150\n",
      "87/87 [==============================] - 26s 304ms/step - loss: 9.3800e-04\n",
      "Epoch 25/150\n",
      "87/87 [==============================] - 27s 311ms/step - loss: 8.9944e-04\n",
      "Epoch 26/150\n",
      "87/87 [==============================] - 27s 315ms/step - loss: 9.5940e-04\n",
      "Epoch 27/150\n",
      "87/87 [==============================] - 26s 303ms/step - loss: 9.2188e-04\n",
      "Epoch 28/150\n",
      "87/87 [==============================] - 26s 301ms/step - loss: 9.7917e-04\n",
      "Epoch 29/150\n",
      "87/87 [==============================] - 26s 302ms/step - loss: 0.0011\n",
      "Epoch 30/150\n",
      "87/87 [==============================] - 27s 307ms/step - loss: 9.8768e-04\n",
      "Epoch 31/150\n",
      "87/87 [==============================] - 26s 303ms/step - loss: 0.0011\n",
      "Epoch 32/150\n",
      "87/87 [==============================] - 27s 307ms/step - loss: 8.8832e-04\n",
      "Epoch 33/150\n",
      "87/87 [==============================] - 26s 304ms/step - loss: 8.2015e-04\n",
      "Epoch 34/150\n",
      "87/87 [==============================] - 27s 306ms/step - loss: 8.0809e-04\n",
      "Epoch 35/150\n",
      "87/87 [==============================] - 27s 312ms/step - loss: 0.0010\n",
      "Epoch 36/150\n",
      "87/87 [==============================] - 27s 309ms/step - loss: 7.1844e-04\n",
      "Epoch 37/150\n",
      "87/87 [==============================] - 27s 309ms/step - loss: 7.6153e-04\n",
      "Epoch 38/150\n",
      "87/87 [==============================] - 27s 308ms/step - loss: 8.1682e-04\n",
      "Epoch 39/150\n",
      "87/87 [==============================] - 29s 333ms/step - loss: 8.3748e-04\n",
      "Epoch 40/150\n",
      "87/87 [==============================] - 30s 340ms/step - loss: 7.6703e-04\n",
      "Epoch 41/150\n",
      "87/87 [==============================] - 29s 329ms/step - loss: 0.0010\n",
      "Epoch 42/150\n",
      "87/87 [==============================] - 28s 319ms/step - loss: 8.8588e-04\n",
      "Epoch 43/150\n",
      "87/87 [==============================] - 30s 349ms/step - loss: 8.2941e-04\n",
      "Epoch 44/150\n",
      "87/87 [==============================] - 29s 339ms/step - loss: 7.8184e-04\n",
      "Epoch 45/150\n",
      "87/87 [==============================] - 34s 393ms/step - loss: 8.2670e-04\n",
      "Epoch 46/150\n",
      "87/87 [==============================] - 35s 403ms/step - loss: 7.9916e-04\n",
      "Epoch 47/150\n",
      "87/87 [==============================] - 35s 402ms/step - loss: 6.8564e-04\n",
      "Epoch 48/150\n",
      "87/87 [==============================] - 39s 453ms/step - loss: 8.0205e-04\n",
      "Epoch 49/150\n",
      "87/87 [==============================] - 36s 410ms/step - loss: 6.4422e-04\n",
      "Epoch 50/150\n",
      "87/87 [==============================] - 34s 388ms/step - loss: 6.5231e-04\n",
      "Epoch 51/150\n",
      "87/87 [==============================] - 32s 364ms/step - loss: 6.0173e-04\n",
      "Epoch 52/150\n",
      "87/87 [==============================] - 31s 358ms/step - loss: 6.9168e-04\n",
      "Epoch 53/150\n",
      "87/87 [==============================] - 31s 357ms/step - loss: 6.4227e-04\n",
      "Epoch 54/150\n",
      "87/87 [==============================] - 37s 423ms/step - loss: 6.6043e-04\n",
      "Epoch 55/150\n",
      "87/87 [==============================] - 31s 362ms/step - loss: 7.4849e-04\n",
      "Epoch 56/150\n",
      "87/87 [==============================] - 32s 362ms/step - loss: 6.7949e-04\n",
      "Epoch 57/150\n",
      "87/87 [==============================] - 32s 364ms/step - loss: 5.7397e-04\n",
      "Epoch 58/150\n",
      "87/87 [==============================] - 31s 359ms/step - loss: 7.0144e-04\n",
      "Epoch 59/150\n",
      "87/87 [==============================] - 33s 376ms/step - loss: 6.5947e-04\n",
      "Epoch 60/150\n",
      "87/87 [==============================] - 36s 413ms/step - loss: 7.0710e-04\n",
      "Epoch 61/150\n",
      "87/87 [==============================] - 30s 344ms/step - loss: 7.6538e-04\n",
      "Epoch 62/150\n",
      "87/87 [==============================] - 30s 342ms/step - loss: 7.1094e-04\n",
      "Epoch 63/150\n",
      "87/87 [==============================] - 31s 354ms/step - loss: 7.0031e-04\n",
      "Epoch 64/150\n",
      "87/87 [==============================] - 30s 348ms/step - loss: 6.9819e-04\n",
      "Epoch 65/150\n",
      "87/87 [==============================] - 36s 416ms/step - loss: 6.0398e-04\n",
      "Epoch 66/150\n",
      "87/87 [==============================] - 32s 366ms/step - loss: 7.1297e-04\n",
      "Epoch 67/150\n",
      "87/87 [==============================] - 31s 361ms/step - loss: 6.5886e-04\n",
      "Epoch 68/150\n",
      "87/87 [==============================] - 31s 354ms/step - loss: 6.8619e-04\n",
      "Epoch 69/150\n",
      "87/87 [==============================] - 32s 365ms/step - loss: 6.6543e-04\n",
      "Epoch 70/150\n",
      "87/87 [==============================] - 35s 406ms/step - loss: 6.4791e-04\n",
      "Epoch 71/150\n",
      "87/87 [==============================] - 35s 407ms/step - loss: 6.0899e-04\n",
      "Epoch 72/150\n",
      "87/87 [==============================] - 31s 362ms/step - loss: 6.9559e-04\n",
      "Epoch 73/150\n",
      "87/87 [==============================] - 32s 368ms/step - loss: 6.7985e-04\n",
      "Epoch 74/150\n",
      "87/87 [==============================] - 31s 355ms/step - loss: 5.8325e-04\n",
      "Epoch 75/150\n",
      "87/87 [==============================] - 31s 351ms/step - loss: 5.9223e-04\n",
      "Epoch 76/150\n",
      "87/87 [==============================] - 31s 359ms/step - loss: 7.0930e-04\n",
      "Epoch 77/150\n",
      "87/87 [==============================] - 37s 422ms/step - loss: 9.8731e-04\n",
      "Epoch 78/150\n",
      "87/87 [==============================] - 31s 355ms/step - loss: 6.8424e-04\n",
      "Epoch 79/150\n",
      "87/87 [==============================] - 31s 351ms/step - loss: 5.9198e-04\n",
      "Epoch 80/150\n",
      "87/87 [==============================] - 31s 353ms/step - loss: 7.2117e-04\n",
      "Epoch 81/150\n",
      "87/87 [==============================] - 31s 362ms/step - loss: 7.0732e-04\n",
      "Epoch 82/150\n",
      "87/87 [==============================] - 35s 406ms/step - loss: 5.6952e-04\n",
      "Epoch 83/150\n",
      "87/87 [==============================] - 31s 354ms/step - loss: 5.9371e-04\n",
      "Epoch 84/150\n",
      "87/87 [==============================] - 31s 362ms/step - loss: 6.4753e-04\n",
      "Epoch 85/150\n",
      "87/87 [==============================] - 31s 357ms/step - loss: 6.1055e-04\n",
      "Epoch 86/150\n",
      "87/87 [==============================] - 35s 402ms/step - loss: 6.5184e-04\n",
      "Epoch 87/150\n",
      "87/87 [==============================] - 32s 367ms/step - loss: 6.3124e-04\n",
      "Epoch 88/150\n",
      "87/87 [==============================] - 31s 352ms/step - loss: 6.1359e-04\n",
      "Epoch 89/150\n",
      "87/87 [==============================] - 30s 344ms/step - loss: 6.3285e-04\n",
      "Epoch 90/150\n",
      "87/87 [==============================] - 30s 345ms/step - loss: 6.2120e-04\n",
      "Epoch 91/150\n",
      "87/87 [==============================] - 31s 356ms/step - loss: 6.1197e-04\n",
      "Epoch 92/150\n",
      "87/87 [==============================] - 34s 387ms/step - loss: 6.6228e-04\n",
      "Epoch 93/150\n",
      "87/87 [==============================] - 31s 355ms/step - loss: 6.3730e-04\n",
      "Epoch 94/150\n",
      "87/87 [==============================] - 31s 352ms/step - loss: 6.1452e-04\n",
      "Epoch 95/150\n",
      "87/87 [==============================] - 31s 353ms/step - loss: 5.8544e-04\n",
      "Epoch 96/150\n",
      "87/87 [==============================] - 31s 354ms/step - loss: 6.1519e-04\n",
      "Epoch 97/150\n",
      "87/87 [==============================] - 33s 374ms/step - loss: 5.7717e-04\n",
      "Epoch 98/150\n",
      "87/87 [==============================] - 35s 405ms/step - loss: 6.3063e-04\n",
      "Epoch 99/150\n",
      "87/87 [==============================] - 31s 356ms/step - loss: 5.3289e-04\n",
      "Epoch 100/150\n",
      "87/87 [==============================] - 30s 342ms/step - loss: 6.3047e-04\n",
      "Epoch 101/150\n",
      "87/87 [==============================] - 30s 347ms/step - loss: 6.1807e-04\n",
      "Epoch 102/150\n",
      "87/87 [==============================] - 31s 352ms/step - loss: 5.9545e-04\n",
      "Epoch 103/150\n",
      "87/87 [==============================] - 33s 379ms/step - loss: 6.0575e-04\n",
      "Epoch 104/150\n",
      "87/87 [==============================] - 30s 347ms/step - loss: 6.5766e-04\n",
      "Epoch 105/150\n",
      "87/87 [==============================] - 30s 347ms/step - loss: 5.5946e-04\n",
      "Epoch 106/150\n",
      "87/87 [==============================] - 31s 351ms/step - loss: 5.9939e-04\n",
      "Epoch 107/150\n",
      "87/87 [==============================] - 31s 357ms/step - loss: 5.7559e-04\n",
      "Epoch 108/150\n",
      "87/87 [==============================] - 35s 401ms/step - loss: 5.2844e-04\n",
      "Epoch 109/150\n",
      "87/87 [==============================] - 36s 409ms/step - loss: 5.5963e-04\n",
      "Epoch 110/150\n",
      "87/87 [==============================] - 30s 346ms/step - loss: 6.0733e-04\n",
      "Epoch 111/150\n",
      "87/87 [==============================] - 32s 371ms/step - loss: 7.1622e-04\n",
      "Epoch 112/150\n",
      "87/87 [==============================] - 30s 348ms/step - loss: 6.8388e-04\n",
      "Epoch 113/150\n",
      "87/87 [==============================] - 35s 404ms/step - loss: 5.2249e-04\n",
      "Epoch 114/150\n",
      "87/87 [==============================] - 38s 435ms/step - loss: 5.1631e-04\n",
      "Epoch 115/150\n",
      "87/87 [==============================] - 32s 364ms/step - loss: 6.1103e-04\n",
      "Epoch 116/150\n",
      "87/87 [==============================] - 33s 384ms/step - loss: 6.5818e-04\n",
      "Epoch 117/150\n",
      "87/87 [==============================] - 34s 394ms/step - loss: 5.7468e-04\n",
      "Epoch 118/150\n",
      "87/87 [==============================] - 35s 408ms/step - loss: 5.7700e-04\n",
      "Epoch 119/150\n",
      "87/87 [==============================] - 39s 451ms/step - loss: 5.9281e-04\n",
      "Epoch 120/150\n",
      "87/87 [==============================] - 32s 368ms/step - loss: 6.3809e-04\n",
      "Epoch 121/150\n",
      "87/87 [==============================] - 36s 419ms/step - loss: 5.8795e-04\n",
      "Epoch 122/150\n",
      "87/87 [==============================] - 31s 358ms/step - loss: 5.4196e-04\n",
      "Epoch 123/150\n",
      "87/87 [==============================] - 40s 459ms/step - loss: 5.1010e-04\n",
      "Epoch 124/150\n",
      "87/87 [==============================] - 39s 444ms/step - loss: 5.9539e-04\n",
      "Epoch 125/150\n",
      "87/87 [==============================] - 34s 387ms/step - loss: 5.7938e-04\n",
      "Epoch 126/150\n",
      "87/87 [==============================] - 32s 364ms/step - loss: 5.3956e-04\n",
      "Epoch 127/150\n",
      "87/87 [==============================] - 31s 352ms/step - loss: 5.9852e-04\n",
      "Epoch 128/150\n",
      "87/87 [==============================] - 31s 358ms/step - loss: 6.3388e-04\n",
      "Epoch 129/150\n",
      "87/87 [==============================] - 36s 408ms/step - loss: 5.1583e-04\n",
      "Epoch 130/150\n",
      "87/87 [==============================] - 35s 397ms/step - loss: 5.7070e-04\n",
      "Epoch 131/150\n",
      "87/87 [==============================] - 31s 354ms/step - loss: 5.3879e-04\n",
      "Epoch 132/150\n",
      "87/87 [==============================] - 30s 341ms/step - loss: 5.0403e-04\n",
      "Epoch 133/150\n",
      "87/87 [==============================] - 30s 347ms/step - loss: 5.4205e-04\n",
      "Epoch 134/150\n",
      "87/87 [==============================] - 30s 342ms/step - loss: 6.0554e-04\n",
      "Epoch 135/150\n",
      "87/87 [==============================] - 30s 343ms/step - loss: 6.0343e-04\n",
      "Epoch 136/150\n",
      "87/87 [==============================] - 29s 337ms/step - loss: 6.9297e-04\n",
      "Epoch 137/150\n",
      "87/87 [==============================] - 29s 333ms/step - loss: 6.2367e-04\n",
      "Epoch 138/150\n",
      "87/87 [==============================] - 29s 333ms/step - loss: 5.4610e-04\n",
      "Epoch 139/150\n",
      "87/87 [==============================] - 29s 332ms/step - loss: 5.9381e-04\n",
      "Epoch 140/150\n",
      "87/87 [==============================] - 33s 378ms/step - loss: 5.2163e-04\n",
      "Epoch 141/150\n",
      "87/87 [==============================] - 30s 342ms/step - loss: 5.3187e-04\n",
      "Epoch 142/150\n",
      "87/87 [==============================] - 29s 335ms/step - loss: 5.4937e-04\n",
      "Epoch 143/150\n",
      "87/87 [==============================] - 33s 377ms/step - loss: 5.8694e-04\n",
      "Epoch 144/150\n",
      "87/87 [==============================] - 29s 335ms/step - loss: 5.3637e-04\n",
      "Epoch 145/150\n",
      "87/87 [==============================] - 31s 353ms/step - loss: 4.8836e-04\n",
      "Epoch 146/150\n",
      "87/87 [==============================] - 35s 404ms/step - loss: 5.6008e-04\n",
      "Epoch 147/150\n",
      "87/87 [==============================] - 34s 385ms/step - loss: 6.2931e-04\n",
      "Epoch 148/150\n",
      "87/87 [==============================] - 29s 337ms/step - loss: 5.1254e-04\n",
      "Epoch 149/150\n",
      "87/87 [==============================] - 30s 341ms/step - loss: 4.6847e-04\n",
      "Epoch 150/150\n",
      "87/87 [==============================] - 29s 338ms/step - loss: 6.1316e-04\n"
     ]
    },
    {
     "data": {
      "text/plain": [
       "<tensorflow.python.keras.callbacks.History at 0x1bf5b085a08>"
      ]
     },
     "execution_count": 59,
     "metadata": {},
     "output_type": "execute_result"
    }
   ],
   "source": [
    "regressor.compile(optimizer = 'adam', loss = 'mean_squared_error')\n",
    "regressor.fit(x_train, y_train, epochs = 150, batch_size = 32)"
   ]
  },
  {
   "cell_type": "code",
   "execution_count": 60,
   "metadata": {},
   "outputs": [
    {
     "data": {
      "text/html": [
       "<div>\n",
       "<style scoped>\n",
       "    .dataframe tbody tr th:only-of-type {\n",
       "        vertical-align: middle;\n",
       "    }\n",
       "\n",
       "    .dataframe tbody tr th {\n",
       "        vertical-align: top;\n",
       "    }\n",
       "\n",
       "    .dataframe thead th {\n",
       "        text-align: right;\n",
       "    }\n",
       "</style>\n",
       "<table border=\"1\" class=\"dataframe\">\n",
       "  <thead>\n",
       "    <tr style=\"text-align: right;\">\n",
       "      <th></th>\n",
       "      <th>Date</th>\n",
       "      <th>Open</th>\n",
       "      <th>High</th>\n",
       "      <th>Low</th>\n",
       "      <th>Close</th>\n",
       "      <th>Adj Close</th>\n",
       "      <th>Volume</th>\n",
       "    </tr>\n",
       "  </thead>\n",
       "  <tbody>\n",
       "    <tr>\n",
       "      <th>2854</th>\n",
       "      <td>2019-05-06</td>\n",
       "      <td>175.500000</td>\n",
       "      <td>180.339996</td>\n",
       "      <td>174.000000</td>\n",
       "      <td>179.850006</td>\n",
       "      <td>179.092438</td>\n",
       "      <td>10554400</td>\n",
       "    </tr>\n",
       "    <tr>\n",
       "      <th>2855</th>\n",
       "      <td>2019-05-07</td>\n",
       "      <td>177.899994</td>\n",
       "      <td>177.899994</td>\n",
       "      <td>171.169998</td>\n",
       "      <td>173.110001</td>\n",
       "      <td>172.380814</td>\n",
       "      <td>13880500</td>\n",
       "    </tr>\n",
       "    <tr>\n",
       "      <th>2856</th>\n",
       "      <td>2019-05-08</td>\n",
       "      <td>172.000000</td>\n",
       "      <td>177.149994</td>\n",
       "      <td>171.520004</td>\n",
       "      <td>173.919998</td>\n",
       "      <td>173.187408</td>\n",
       "      <td>10479200</td>\n",
       "    </tr>\n",
       "    <tr>\n",
       "      <th>2857</th>\n",
       "      <td>2019-05-09</td>\n",
       "      <td>171.139999</td>\n",
       "      <td>171.529999</td>\n",
       "      <td>165.399994</td>\n",
       "      <td>170.190002</td>\n",
       "      <td>169.473129</td>\n",
       "      <td>16506200</td>\n",
       "    </tr>\n",
       "    <tr>\n",
       "      <th>2858</th>\n",
       "      <td>2019-05-10</td>\n",
       "      <td>168.949997</td>\n",
       "      <td>171.589996</td>\n",
       "      <td>164.000000</td>\n",
       "      <td>168.820007</td>\n",
       "      <td>168.108902</td>\n",
       "      <td>14237500</td>\n",
       "    </tr>\n",
       "  </tbody>\n",
       "</table>\n",
       "</div>"
      ],
      "text/plain": [
       "            Date        Open        High         Low       Close   Adj Close  \\\n",
       "2854  2019-05-06  175.500000  180.339996  174.000000  179.850006  179.092438   \n",
       "2855  2019-05-07  177.899994  177.899994  171.169998  173.110001  172.380814   \n",
       "2856  2019-05-08  172.000000  177.149994  171.520004  173.919998  173.187408   \n",
       "2857  2019-05-09  171.139999  171.529999  165.399994  170.190002  169.473129   \n",
       "2858  2019-05-10  168.949997  171.589996  164.000000  168.820007  168.108902   \n",
       "\n",
       "        Volume  \n",
       "2854  10554400  \n",
       "2855  13880500  \n",
       "2856  10479200  \n",
       "2857  16506200  \n",
       "2858  14237500  "
      ]
     },
     "execution_count": 60,
     "metadata": {},
     "output_type": "execute_result"
    }
   ],
   "source": [
    "data_testing.head()"
   ]
  },
  {
   "cell_type": "code",
   "execution_count": 61,
   "metadata": {},
   "outputs": [],
   "source": [
    "past_60_days = data_testing.tail(60)"
   ]
  },
  {
   "cell_type": "code",
   "execution_count": 62,
   "metadata": {},
   "outputs": [
    {
     "data": {
      "text/html": [
       "<div>\n",
       "<style scoped>\n",
       "    .dataframe tbody tr th:only-of-type {\n",
       "        vertical-align: middle;\n",
       "    }\n",
       "\n",
       "    .dataframe tbody tr th {\n",
       "        vertical-align: top;\n",
       "    }\n",
       "\n",
       "    .dataframe thead th {\n",
       "        text-align: right;\n",
       "    }\n",
       "</style>\n",
       "<table border=\"1\" class=\"dataframe\">\n",
       "  <thead>\n",
       "    <tr style=\"text-align: right;\">\n",
       "      <th></th>\n",
       "      <th>Open</th>\n",
       "      <th>High</th>\n",
       "      <th>Low</th>\n",
       "      <th>Close</th>\n",
       "      <th>Volume</th>\n",
       "    </tr>\n",
       "  </thead>\n",
       "  <tbody>\n",
       "    <tr>\n",
       "      <th>0</th>\n",
       "      <td>181.399994</td>\n",
       "      <td>183.149994</td>\n",
       "      <td>178.779999</td>\n",
       "      <td>181.970001</td>\n",
       "      <td>6638100</td>\n",
       "    </tr>\n",
       "    <tr>\n",
       "      <th>1</th>\n",
       "      <td>184.580002</td>\n",
       "      <td>188.339996</td>\n",
       "      <td>184.229996</td>\n",
       "      <td>184.330002</td>\n",
       "      <td>12024600</td>\n",
       "    </tr>\n",
       "    <tr>\n",
       "      <th>2</th>\n",
       "      <td>180.639999</td>\n",
       "      <td>180.639999</td>\n",
       "      <td>176.500000</td>\n",
       "      <td>177.229996</td>\n",
       "      <td>11110900</td>\n",
       "    </tr>\n",
       "    <tr>\n",
       "      <th>3</th>\n",
       "      <td>180.320007</td>\n",
       "      <td>182.699997</td>\n",
       "      <td>179.160004</td>\n",
       "      <td>180.710007</td>\n",
       "      <td>7310300</td>\n",
       "    </tr>\n",
       "    <tr>\n",
       "      <th>4</th>\n",
       "      <td>180.619995</td>\n",
       "      <td>185.080002</td>\n",
       "      <td>180.410004</td>\n",
       "      <td>183.029999</td>\n",
       "      <td>7728100</td>\n",
       "    </tr>\n",
       "  </tbody>\n",
       "</table>\n",
       "</div>"
      ],
      "text/plain": [
       "         Open        High         Low       Close    Volume\n",
       "0  181.399994  183.149994  178.779999  181.970001   6638100\n",
       "1  184.580002  188.339996  184.229996  184.330002  12024600\n",
       "2  180.639999  180.639999  176.500000  177.229996  11110900\n",
       "3  180.320007  182.699997  179.160004  180.710007   7310300\n",
       "4  180.619995  185.080002  180.410004  183.029999   7728100"
      ]
     },
     "execution_count": 62,
     "metadata": {},
     "output_type": "execute_result"
    }
   ],
   "source": [
    "df = past_60_days.append(data_testing, ignore_index = True)\n",
    "df = df.drop(['Date', 'Adj Close'], axis = 1)\n",
    "df.head()"
   ]
  },
  {
   "cell_type": "code",
   "execution_count": 63,
   "metadata": {},
   "outputs": [
    {
     "data": {
      "text/plain": [
       "array([[0.61908792, 0.61725675, 0.61833973, 0.62114588, 0.06028596],\n",
       "       [0.63031201, 0.63537953, 0.63781583, 0.62947157, 0.11936005],\n",
       "       [0.61640546, 0.60849219, 0.61019193, 0.60442392, 0.10933944],\n",
       "       ...,\n",
       "       [0.82154451, 0.81688665, 0.82996823, 0.82300859, 0.03761923],\n",
       "       [0.82521529, 0.81695645, 0.82214205, 0.81482399, 0.05730291],\n",
       "       [0.81176761, 0.80250014, 0.80516745, 0.79877238, 0.0582384 ]])"
      ]
     },
     "execution_count": 63,
     "metadata": {},
     "output_type": "execute_result"
    }
   ],
   "source": [
    "inputs = scaler.transform(df)\n",
    "inputs"
   ]
  },
  {
   "cell_type": "code",
   "execution_count": 64,
   "metadata": {},
   "outputs": [
    {
     "data": {
      "text/plain": [
       "((166, 60, 5), (166,))"
      ]
     },
     "execution_count": 64,
     "metadata": {},
     "output_type": "execute_result"
    }
   ],
   "source": [
    "x_test = []\n",
    "y_test = []\n",
    "\n",
    "for i in range(60, inputs.shape[0]):\n",
    "    x_test.append(inputs[i-60:i])\n",
    "    y_test.append(inputs[i,0])\n",
    "    \n",
    "x_test = np.array(x_test)\n",
    "y_test = np.array(y_test)\n",
    "x_test.shape, y_test.shape"
   ]
  },
  {
   "cell_type": "code",
   "execution_count": 65,
   "metadata": {},
   "outputs": [
    {
     "data": {
      "text/plain": [
       "(166, 60, 5)"
      ]
     },
     "execution_count": 65,
     "metadata": {},
     "output_type": "execute_result"
    }
   ],
   "source": [
    "x_test.shape"
   ]
  },
  {
   "cell_type": "code",
   "execution_count": 66,
   "metadata": {},
   "outputs": [
    {
     "name": "stdout",
     "output_type": "stream",
     "text": [
      "WARNING:tensorflow:Model was constructed with shape (None, 100, 5) for input Tensor(\"lstm_8_input:0\", shape=(None, 100, 5), dtype=float32), but it was called on an input with incompatible shape (None, 60, 5).\n"
     ]
    }
   ],
   "source": [
    "y_pred = regressor.predict(x_test)"
   ]
  },
  {
   "cell_type": "code",
   "execution_count": 67,
   "metadata": {},
   "outputs": [
    {
     "data": {
      "text/plain": [
       "array([3.52957778e-03, 3.49186384e-03, 3.57359842e-03, 3.52783480e-03,\n",
       "       1.09670648e-08])"
      ]
     },
     "execution_count": 67,
     "metadata": {},
     "output_type": "execute_result"
    }
   ],
   "source": [
    "scaler.scale_"
   ]
  },
  {
   "cell_type": "code",
   "execution_count": 68,
   "metadata": {},
   "outputs": [
    {
     "data": {
      "text/plain": [
       "283.3200066213019"
      ]
     },
     "execution_count": 68,
     "metadata": {},
     "output_type": "execute_result"
    }
   ],
   "source": [
    "scale = 1 / 3.52957778e-03\n",
    "scale"
   ]
  },
  {
   "cell_type": "code",
   "execution_count": 69,
   "metadata": {},
   "outputs": [],
   "source": [
    "y_pred = y_pred * scale \n",
    "y_test = y_test * scale"
   ]
  },
  {
   "cell_type": "code",
   "execution_count": 48,
   "metadata": {},
   "outputs": [
    {
     "data": {
      "text/plain": [
       "(166, 1)"
      ]
     },
     "execution_count": 48,
     "metadata": {},
     "output_type": "execute_result"
    }
   ],
   "source": [
    "y_pred.shape"
   ]
  },
  {
   "cell_type": "code",
   "execution_count": 70,
   "metadata": {},
   "outputs": [
    {
     "data": {
      "text/plain": [
       "(166,)"
      ]
     },
     "execution_count": 70,
     "metadata": {},
     "output_type": "execute_result"
    }
   ],
   "source": [
    "y_test.shape"
   ]
  },
  {
   "cell_type": "code",
   "execution_count": 76,
   "metadata": {},
   "outputs": [
    {
     "data": {
      "text/plain": [
       "array([[192.80496],\n",
       "       [189.61253],\n",
       "       [188.58626],\n",
       "       [189.09605],\n",
       "       [190.40938],\n",
       "       [192.13104],\n",
       "       [193.75865],\n",
       "       [196.18504],\n",
       "       [198.58754],\n",
       "       [200.70076],\n",
       "       [202.03435],\n",
       "       [200.67488],\n",
       "       [196.59172],\n",
       "       [194.37526],\n",
       "       [193.79585],\n",
       "       [194.5704 ],\n",
       "       [195.78572],\n",
       "       [197.18759],\n",
       "       [198.85663],\n",
       "       [200.8991 ],\n",
       "       [203.57158],\n",
       "       [206.26064],\n",
       "       [208.6404 ],\n",
       "       [210.94067],\n",
       "       [213.29312],\n",
       "       [216.21465],\n",
       "       [219.0638 ],\n",
       "       [221.25194],\n",
       "       [222.88405],\n",
       "       [223.20625]], dtype=float32)"
      ]
     },
     "execution_count": 76,
     "metadata": {},
     "output_type": "execute_result"
    }
   ],
   "source": [
    "y_pred[136:]"
   ]
  },
  {
   "cell_type": "code",
   "execution_count": 77,
   "metadata": {},
   "outputs": [
    {
     "data": {
      "text/plain": [
       "array([203.69999673, 197.88999874, 205.02999873, 201.07000673,\n",
       "       204.99999973, 205.08999573, 210.03999272, 214.49999971,\n",
       "       212.66999772, 210.99999972, 210.46000672, 195.86999474,\n",
       "       205.02000373, 204.30000273, 205.52000373, 205.24999973,\n",
       "       207.38000472, 208.39999372, 210.17999272, 218.19000171,\n",
       "       219.89999371, 219.89999371, 223.6900017 , 224.8999937 ,\n",
       "       232.13000469, 234.52000369, 232.19999669, 232.75999469,\n",
       "       233.80000269, 229.99000469])"
      ]
     },
     "execution_count": 77,
     "metadata": {},
     "output_type": "execute_result"
    }
   ],
   "source": [
    "y_test[136:]"
   ]
  },
  {
   "cell_type": "code",
   "execution_count": 78,
   "metadata": {},
   "outputs": [
    {
     "data": {
      "image/png": "[encoded data removed]",
      "text/plain": [
       "<Figure size 1008x360 with 1 Axes>"
      ]
     },
     "metadata": {
      "needs_background": "light"
     },
     "output_type": "display_data"
    }
   ],
   "source": [
    "plt.figure(figsize = (14,5))\n",
    "plt.plot(y_test, color = 'red', label = 'Real NVDA Stock Price')\n",
    "plt.plot(y_pred, color = 'blue', label = 'Predicted NVDA Stock price')\n",
    "plt.title('NVDA Stock Price Prediction')\n",
    "plt.xlabel('Time')\n",
    "plt.ylabel('Apple Stock Price')\n",
    "plt.legend()\n",
    "plt.show()"
   ]
  },
  {
   "cell_type": "code",
   "execution_count": null,
   "metadata": {},
   "outputs": [],
   "source": []
  }
 ],
 "metadata": {
  "kernelspec": {
   "display_name": "Python 3",
   "language": "python",
   "name": "python3"
  },
  "language_info": {
   "codemirror_mode": {
    "name": "ipython",
    "version": 3
   },
   "file_extension": ".py",
   "mimetype": "text/x-python",
   "name": "python",
   "nbconvert_exporter": "python",
   "pygments_lexer": "ipython3",
   "version": "3.7.6"
  }
 },
 "nbformat": 4,
 "nbformat_minor": 4
}
